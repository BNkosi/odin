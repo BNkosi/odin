{
  "nbformat": 4,
  "nbformat_minor": 0,
  "metadata": {
    "colab": {
      "name": "question_generator.ipynb",
      "provenance": [],
      "collapsed_sections": [],
      "authorship_tag": "ABX9TyPTsL1PNfglzwTXocv4wCG8",
      "include_colab_link": true
    },
    "kernelspec": {
      "name": "python3",
      "display_name": "Python 3"
    },
    "accelerator": "GPU",
    "widgets": {
      "application/vnd.jupyter.widget-state+json": {
        "0f50ddbc0468482a9081f58f5f79665a": {
          "model_module": "@jupyter-widgets/controls",
          "model_name": "HBoxModel",
          "state": {
            "_view_name": "HBoxView",
            "_dom_classes": [],
            "_model_name": "HBoxModel",
            "_view_module": "@jupyter-widgets/controls",
            "_model_module_version": "1.5.0",
            "_view_count": null,
            "_view_module_version": "1.5.0",
            "box_style": "",
            "layout": "IPY_MODEL_4b7e582eb35e487fbbccc7225fdb996d",
            "_model_module": "@jupyter-widgets/controls",
            "children": [
              "IPY_MODEL_118f492dde584f4fa681b3c145300d8c",
              "IPY_MODEL_e23bc7a9ded448439f5266fe43cd074e"
            ]
          }
        },
        "4b7e582eb35e487fbbccc7225fdb996d": {
          "model_module": "@jupyter-widgets/base",
          "model_name": "LayoutModel",
          "state": {
            "_view_name": "LayoutView",
            "grid_template_rows": null,
            "right": null,
            "justify_content": null,
            "_view_module": "@jupyter-widgets/base",
            "overflow": null,
            "_model_module_version": "1.2.0",
            "_view_count": null,
            "flex_flow": null,
            "width": null,
            "min_width": null,
            "border": null,
            "align_items": null,
            "bottom": null,
            "_model_module": "@jupyter-widgets/base",
            "top": null,
            "grid_column": null,
            "overflow_y": null,
            "overflow_x": null,
            "grid_auto_flow": null,
            "grid_area": null,
            "grid_template_columns": null,
            "flex": null,
            "_model_name": "LayoutModel",
            "justify_items": null,
            "grid_row": null,
            "max_height": null,
            "align_content": null,
            "visibility": null,
            "align_self": null,
            "height": null,
            "min_height": null,
            "padding": null,
            "grid_auto_rows": null,
            "grid_gap": null,
            "max_width": null,
            "order": null,
            "_view_module_version": "1.2.0",
            "grid_template_areas": null,
            "object_position": null,
            "object_fit": null,
            "grid_auto_columns": null,
            "margin": null,
            "display": null,
            "left": null
          }
        },
        "118f492dde584f4fa681b3c145300d8c": {
          "model_module": "@jupyter-widgets/controls",
          "model_name": "FloatProgressModel",
          "state": {
            "_view_name": "ProgressView",
            "style": "IPY_MODEL_f7ad2abb086a4adcb4158ae8853bc3bf",
            "_dom_classes": [],
            "description": "Downloading: 100%",
            "_model_name": "FloatProgressModel",
            "bar_style": "success",
            "max": 1230,
            "_view_module": "@jupyter-widgets/controls",
            "_model_module_version": "1.5.0",
            "value": 1230,
            "_view_count": null,
            "_view_module_version": "1.5.0",
            "orientation": "horizontal",
            "min": 0,
            "description_tooltip": null,
            "_model_module": "@jupyter-widgets/controls",
            "layout": "IPY_MODEL_c1e1e0ee8d75414994e53058ea9a373d"
          }
        },
        "e23bc7a9ded448439f5266fe43cd074e": {
          "model_module": "@jupyter-widgets/controls",
          "model_name": "HTMLModel",
          "state": {
            "_view_name": "HTMLView",
            "style": "IPY_MODEL_5c674412594f414482a6a70e2c15a89e",
            "_dom_classes": [],
            "description": "",
            "_model_name": "HTMLModel",
            "placeholder": "​",
            "_view_module": "@jupyter-widgets/controls",
            "_model_module_version": "1.5.0",
            "value": " 1.23k/1.23k [00:18&lt;00:00, 66.6B/s]",
            "_view_count": null,
            "_view_module_version": "1.5.0",
            "description_tooltip": null,
            "_model_module": "@jupyter-widgets/controls",
            "layout": "IPY_MODEL_a9268f04f1b3466694b323ec6dad6e8e"
          }
        },
        "f7ad2abb086a4adcb4158ae8853bc3bf": {
          "model_module": "@jupyter-widgets/controls",
          "model_name": "ProgressStyleModel",
          "state": {
            "_view_name": "StyleView",
            "_model_name": "ProgressStyleModel",
            "description_width": "initial",
            "_view_module": "@jupyter-widgets/base",
            "_model_module_version": "1.5.0",
            "_view_count": null,
            "_view_module_version": "1.2.0",
            "bar_color": null,
            "_model_module": "@jupyter-widgets/controls"
          }
        },
        "c1e1e0ee8d75414994e53058ea9a373d": {
          "model_module": "@jupyter-widgets/base",
          "model_name": "LayoutModel",
          "state": {
            "_view_name": "LayoutView",
            "grid_template_rows": null,
            "right": null,
            "justify_content": null,
            "_view_module": "@jupyter-widgets/base",
            "overflow": null,
            "_model_module_version": "1.2.0",
            "_view_count": null,
            "flex_flow": null,
            "width": null,
            "min_width": null,
            "border": null,
            "align_items": null,
            "bottom": null,
            "_model_module": "@jupyter-widgets/base",
            "top": null,
            "grid_column": null,
            "overflow_y": null,
            "overflow_x": null,
            "grid_auto_flow": null,
            "grid_area": null,
            "grid_template_columns": null,
            "flex": null,
            "_model_name": "LayoutModel",
            "justify_items": null,
            "grid_row": null,
            "max_height": null,
            "align_content": null,
            "visibility": null,
            "align_self": null,
            "height": null,
            "min_height": null,
            "padding": null,
            "grid_auto_rows": null,
            "grid_gap": null,
            "max_width": null,
            "order": null,
            "_view_module_version": "1.2.0",
            "grid_template_areas": null,
            "object_position": null,
            "object_fit": null,
            "grid_auto_columns": null,
            "margin": null,
            "display": null,
            "left": null
          }
        },
        "5c674412594f414482a6a70e2c15a89e": {
          "model_module": "@jupyter-widgets/controls",
          "model_name": "DescriptionStyleModel",
          "state": {
            "_view_name": "StyleView",
            "_model_name": "DescriptionStyleModel",
            "description_width": "",
            "_view_module": "@jupyter-widgets/base",
            "_model_module_version": "1.5.0",
            "_view_count": null,
            "_view_module_version": "1.2.0",
            "_model_module": "@jupyter-widgets/controls"
          }
        },
        "a9268f04f1b3466694b323ec6dad6e8e": {
          "model_module": "@jupyter-widgets/base",
          "model_name": "LayoutModel",
          "state": {
            "_view_name": "LayoutView",
            "grid_template_rows": null,
            "right": null,
            "justify_content": null,
            "_view_module": "@jupyter-widgets/base",
            "overflow": null,
            "_model_module_version": "1.2.0",
            "_view_count": null,
            "flex_flow": null,
            "width": null,
            "min_width": null,
            "border": null,
            "align_items": null,
            "bottom": null,
            "_model_module": "@jupyter-widgets/base",
            "top": null,
            "grid_column": null,
            "overflow_y": null,
            "overflow_x": null,
            "grid_auto_flow": null,
            "grid_area": null,
            "grid_template_columns": null,
            "flex": null,
            "_model_name": "LayoutModel",
            "justify_items": null,
            "grid_row": null,
            "max_height": null,
            "align_content": null,
            "visibility": null,
            "align_self": null,
            "height": null,
            "min_height": null,
            "padding": null,
            "grid_auto_rows": null,
            "grid_gap": null,
            "max_width": null,
            "order": null,
            "_view_module_version": "1.2.0",
            "grid_template_areas": null,
            "object_position": null,
            "object_fit": null,
            "grid_auto_columns": null,
            "margin": null,
            "display": null,
            "left": null
          }
        },
        "4560053b91064fcfa8195814afe46240": {
          "model_module": "@jupyter-widgets/controls",
          "model_name": "HBoxModel",
          "state": {
            "_view_name": "HBoxView",
            "_dom_classes": [],
            "_model_name": "HBoxModel",
            "_view_module": "@jupyter-widgets/controls",
            "_model_module_version": "1.5.0",
            "_view_count": null,
            "_view_module_version": "1.5.0",
            "box_style": "",
            "layout": "IPY_MODEL_d464ab104e074d67b576451f66321540",
            "_model_module": "@jupyter-widgets/controls",
            "children": [
              "IPY_MODEL_38d7876bdd744ce49737e4f5c7c976be",
              "IPY_MODEL_eb3a9f51095f4118ad7e5bc1c48a8d2c"
            ]
          }
        },
        "d464ab104e074d67b576451f66321540": {
          "model_module": "@jupyter-widgets/base",
          "model_name": "LayoutModel",
          "state": {
            "_view_name": "LayoutView",
            "grid_template_rows": null,
            "right": null,
            "justify_content": null,
            "_view_module": "@jupyter-widgets/base",
            "overflow": null,
            "_model_module_version": "1.2.0",
            "_view_count": null,
            "flex_flow": null,
            "width": null,
            "min_width": null,
            "border": null,
            "align_items": null,
            "bottom": null,
            "_model_module": "@jupyter-widgets/base",
            "top": null,
            "grid_column": null,
            "overflow_y": null,
            "overflow_x": null,
            "grid_auto_flow": null,
            "grid_area": null,
            "grid_template_columns": null,
            "flex": null,
            "_model_name": "LayoutModel",
            "justify_items": null,
            "grid_row": null,
            "max_height": null,
            "align_content": null,
            "visibility": null,
            "align_self": null,
            "height": null,
            "min_height": null,
            "padding": null,
            "grid_auto_rows": null,
            "grid_gap": null,
            "max_width": null,
            "order": null,
            "_view_module_version": "1.2.0",
            "grid_template_areas": null,
            "object_position": null,
            "object_fit": null,
            "grid_auto_columns": null,
            "margin": null,
            "display": null,
            "left": null
          }
        },
        "38d7876bdd744ce49737e4f5c7c976be": {
          "model_module": "@jupyter-widgets/controls",
          "model_name": "FloatProgressModel",
          "state": {
            "_view_name": "ProgressView",
            "style": "IPY_MODEL_3072990ea131485091a4be82ad804d96",
            "_dom_classes": [],
            "description": "Downloading: 100%",
            "_model_name": "FloatProgressModel",
            "bar_style": "success",
            "max": 791656,
            "_view_module": "@jupyter-widgets/controls",
            "_model_module_version": "1.5.0",
            "value": 791656,
            "_view_count": null,
            "_view_module_version": "1.5.0",
            "orientation": "horizontal",
            "min": 0,
            "description_tooltip": null,
            "_model_module": "@jupyter-widgets/controls",
            "layout": "IPY_MODEL_71cb10cc45ce427a8b94e67b8d489498"
          }
        },
        "eb3a9f51095f4118ad7e5bc1c48a8d2c": {
          "model_module": "@jupyter-widgets/controls",
          "model_name": "HTMLModel",
          "state": {
            "_view_name": "HTMLView",
            "style": "IPY_MODEL_6173d7ff64cb482899368a42031d09ed",
            "_dom_classes": [],
            "description": "",
            "_model_name": "HTMLModel",
            "placeholder": "​",
            "_view_module": "@jupyter-widgets/controls",
            "_model_module_version": "1.5.0",
            "value": " 792k/792k [00:00&lt;00:00, 3.35MB/s]",
            "_view_count": null,
            "_view_module_version": "1.5.0",
            "description_tooltip": null,
            "_model_module": "@jupyter-widgets/controls",
            "layout": "IPY_MODEL_384ea5e9b6f44cb9a392ed7df915bfae"
          }
        },
        "3072990ea131485091a4be82ad804d96": {
          "model_module": "@jupyter-widgets/controls",
          "model_name": "ProgressStyleModel",
          "state": {
            "_view_name": "StyleView",
            "_model_name": "ProgressStyleModel",
            "description_width": "initial",
            "_view_module": "@jupyter-widgets/base",
            "_model_module_version": "1.5.0",
            "_view_count": null,
            "_view_module_version": "1.2.0",
            "bar_color": null,
            "_model_module": "@jupyter-widgets/controls"
          }
        },
        "71cb10cc45ce427a8b94e67b8d489498": {
          "model_module": "@jupyter-widgets/base",
          "model_name": "LayoutModel",
          "state": {
            "_view_name": "LayoutView",
            "grid_template_rows": null,
            "right": null,
            "justify_content": null,
            "_view_module": "@jupyter-widgets/base",
            "overflow": null,
            "_model_module_version": "1.2.0",
            "_view_count": null,
            "flex_flow": null,
            "width": null,
            "min_width": null,
            "border": null,
            "align_items": null,
            "bottom": null,
            "_model_module": "@jupyter-widgets/base",
            "top": null,
            "grid_column": null,
            "overflow_y": null,
            "overflow_x": null,
            "grid_auto_flow": null,
            "grid_area": null,
            "grid_template_columns": null,
            "flex": null,
            "_model_name": "LayoutModel",
            "justify_items": null,
            "grid_row": null,
            "max_height": null,
            "align_content": null,
            "visibility": null,
            "align_self": null,
            "height": null,
            "min_height": null,
            "padding": null,
            "grid_auto_rows": null,
            "grid_gap": null,
            "max_width": null,
            "order": null,
            "_view_module_version": "1.2.0",
            "grid_template_areas": null,
            "object_position": null,
            "object_fit": null,
            "grid_auto_columns": null,
            "margin": null,
            "display": null,
            "left": null
          }
        },
        "6173d7ff64cb482899368a42031d09ed": {
          "model_module": "@jupyter-widgets/controls",
          "model_name": "DescriptionStyleModel",
          "state": {
            "_view_name": "StyleView",
            "_model_name": "DescriptionStyleModel",
            "description_width": "",
            "_view_module": "@jupyter-widgets/base",
            "_model_module_version": "1.5.0",
            "_view_count": null,
            "_view_module_version": "1.2.0",
            "_model_module": "@jupyter-widgets/controls"
          }
        },
        "384ea5e9b6f44cb9a392ed7df915bfae": {
          "model_module": "@jupyter-widgets/base",
          "model_name": "LayoutModel",
          "state": {
            "_view_name": "LayoutView",
            "grid_template_rows": null,
            "right": null,
            "justify_content": null,
            "_view_module": "@jupyter-widgets/base",
            "overflow": null,
            "_model_module_version": "1.2.0",
            "_view_count": null,
            "flex_flow": null,
            "width": null,
            "min_width": null,
            "border": null,
            "align_items": null,
            "bottom": null,
            "_model_module": "@jupyter-widgets/base",
            "top": null,
            "grid_column": null,
            "overflow_y": null,
            "overflow_x": null,
            "grid_auto_flow": null,
            "grid_area": null,
            "grid_template_columns": null,
            "flex": null,
            "_model_name": "LayoutModel",
            "justify_items": null,
            "grid_row": null,
            "max_height": null,
            "align_content": null,
            "visibility": null,
            "align_self": null,
            "height": null,
            "min_height": null,
            "padding": null,
            "grid_auto_rows": null,
            "grid_gap": null,
            "max_width": null,
            "order": null,
            "_view_module_version": "1.2.0",
            "grid_template_areas": null,
            "object_position": null,
            "object_fit": null,
            "grid_auto_columns": null,
            "margin": null,
            "display": null,
            "left": null
          }
        },
        "5e1d63ca64cd4a2487ba86d787a2113c": {
          "model_module": "@jupyter-widgets/controls",
          "model_name": "HBoxModel",
          "state": {
            "_view_name": "HBoxView",
            "_dom_classes": [],
            "_model_name": "HBoxModel",
            "_view_module": "@jupyter-widgets/controls",
            "_model_module_version": "1.5.0",
            "_view_count": null,
            "_view_module_version": "1.5.0",
            "box_style": "",
            "layout": "IPY_MODEL_4d6a2fc6486a475281128ea9f317e47f",
            "_model_module": "@jupyter-widgets/controls",
            "children": [
              "IPY_MODEL_2ad121b3b0254afb8de1145ad43ca97b",
              "IPY_MODEL_b7a2871e86624baa8824786ba164dd5b"
            ]
          }
        },
        "4d6a2fc6486a475281128ea9f317e47f": {
          "model_module": "@jupyter-widgets/base",
          "model_name": "LayoutModel",
          "state": {
            "_view_name": "LayoutView",
            "grid_template_rows": null,
            "right": null,
            "justify_content": null,
            "_view_module": "@jupyter-widgets/base",
            "overflow": null,
            "_model_module_version": "1.2.0",
            "_view_count": null,
            "flex_flow": null,
            "width": null,
            "min_width": null,
            "border": null,
            "align_items": null,
            "bottom": null,
            "_model_module": "@jupyter-widgets/base",
            "top": null,
            "grid_column": null,
            "overflow_y": null,
            "overflow_x": null,
            "grid_auto_flow": null,
            "grid_area": null,
            "grid_template_columns": null,
            "flex": null,
            "_model_name": "LayoutModel",
            "justify_items": null,
            "grid_row": null,
            "max_height": null,
            "align_content": null,
            "visibility": null,
            "align_self": null,
            "height": null,
            "min_height": null,
            "padding": null,
            "grid_auto_rows": null,
            "grid_gap": null,
            "max_width": null,
            "order": null,
            "_view_module_version": "1.2.0",
            "grid_template_areas": null,
            "object_position": null,
            "object_fit": null,
            "grid_auto_columns": null,
            "margin": null,
            "display": null,
            "left": null
          }
        },
        "2ad121b3b0254afb8de1145ad43ca97b": {
          "model_module": "@jupyter-widgets/controls",
          "model_name": "FloatProgressModel",
          "state": {
            "_view_name": "ProgressView",
            "style": "IPY_MODEL_b6703e443a03496c8fc2641ce4cd3b10",
            "_dom_classes": [],
            "description": "Downloading: 100%",
            "_model_name": "FloatProgressModel",
            "bar_style": "success",
            "max": 1786,
            "_view_module": "@jupyter-widgets/controls",
            "_model_module_version": "1.5.0",
            "value": 1786,
            "_view_count": null,
            "_view_module_version": "1.5.0",
            "orientation": "horizontal",
            "min": 0,
            "description_tooltip": null,
            "_model_module": "@jupyter-widgets/controls",
            "layout": "IPY_MODEL_f58bfe12ea3f4c75b7e309c3c942b5b7"
          }
        },
        "b7a2871e86624baa8824786ba164dd5b": {
          "model_module": "@jupyter-widgets/controls",
          "model_name": "HTMLModel",
          "state": {
            "_view_name": "HTMLView",
            "style": "IPY_MODEL_94e8075d42a2478bbf1ea85946318646",
            "_dom_classes": [],
            "description": "",
            "_model_name": "HTMLModel",
            "placeholder": "​",
            "_view_module": "@jupyter-widgets/controls",
            "_model_module_version": "1.5.0",
            "value": " 1.79k/1.79k [00:18&lt;00:00, 99.0B/s]",
            "_view_count": null,
            "_view_module_version": "1.5.0",
            "description_tooltip": null,
            "_model_module": "@jupyter-widgets/controls",
            "layout": "IPY_MODEL_0774574ea1cc4a5b8035a7f924a6b03f"
          }
        },
        "b6703e443a03496c8fc2641ce4cd3b10": {
          "model_module": "@jupyter-widgets/controls",
          "model_name": "ProgressStyleModel",
          "state": {
            "_view_name": "StyleView",
            "_model_name": "ProgressStyleModel",
            "description_width": "initial",
            "_view_module": "@jupyter-widgets/base",
            "_model_module_version": "1.5.0",
            "_view_count": null,
            "_view_module_version": "1.2.0",
            "bar_color": null,
            "_model_module": "@jupyter-widgets/controls"
          }
        },
        "f58bfe12ea3f4c75b7e309c3c942b5b7": {
          "model_module": "@jupyter-widgets/base",
          "model_name": "LayoutModel",
          "state": {
            "_view_name": "LayoutView",
            "grid_template_rows": null,
            "right": null,
            "justify_content": null,
            "_view_module": "@jupyter-widgets/base",
            "overflow": null,
            "_model_module_version": "1.2.0",
            "_view_count": null,
            "flex_flow": null,
            "width": null,
            "min_width": null,
            "border": null,
            "align_items": null,
            "bottom": null,
            "_model_module": "@jupyter-widgets/base",
            "top": null,
            "grid_column": null,
            "overflow_y": null,
            "overflow_x": null,
            "grid_auto_flow": null,
            "grid_area": null,
            "grid_template_columns": null,
            "flex": null,
            "_model_name": "LayoutModel",
            "justify_items": null,
            "grid_row": null,
            "max_height": null,
            "align_content": null,
            "visibility": null,
            "align_self": null,
            "height": null,
            "min_height": null,
            "padding": null,
            "grid_auto_rows": null,
            "grid_gap": null,
            "max_width": null,
            "order": null,
            "_view_module_version": "1.2.0",
            "grid_template_areas": null,
            "object_position": null,
            "object_fit": null,
            "grid_auto_columns": null,
            "margin": null,
            "display": null,
            "left": null
          }
        },
        "94e8075d42a2478bbf1ea85946318646": {
          "model_module": "@jupyter-widgets/controls",
          "model_name": "DescriptionStyleModel",
          "state": {
            "_view_name": "StyleView",
            "_model_name": "DescriptionStyleModel",
            "description_width": "",
            "_view_module": "@jupyter-widgets/base",
            "_model_module_version": "1.5.0",
            "_view_count": null,
            "_view_module_version": "1.2.0",
            "_model_module": "@jupyter-widgets/controls"
          }
        },
        "0774574ea1cc4a5b8035a7f924a6b03f": {
          "model_module": "@jupyter-widgets/base",
          "model_name": "LayoutModel",
          "state": {
            "_view_name": "LayoutView",
            "grid_template_rows": null,
            "right": null,
            "justify_content": null,
            "_view_module": "@jupyter-widgets/base",
            "overflow": null,
            "_model_module_version": "1.2.0",
            "_view_count": null,
            "flex_flow": null,
            "width": null,
            "min_width": null,
            "border": null,
            "align_items": null,
            "bottom": null,
            "_model_module": "@jupyter-widgets/base",
            "top": null,
            "grid_column": null,
            "overflow_y": null,
            "overflow_x": null,
            "grid_auto_flow": null,
            "grid_area": null,
            "grid_template_columns": null,
            "flex": null,
            "_model_name": "LayoutModel",
            "justify_items": null,
            "grid_row": null,
            "max_height": null,
            "align_content": null,
            "visibility": null,
            "align_self": null,
            "height": null,
            "min_height": null,
            "padding": null,
            "grid_auto_rows": null,
            "grid_gap": null,
            "max_width": null,
            "order": null,
            "_view_module_version": "1.2.0",
            "grid_template_areas": null,
            "object_position": null,
            "object_fit": null,
            "grid_auto_columns": null,
            "margin": null,
            "display": null,
            "left": null
          }
        },
        "5f0412cf1dfe43598b77956786f514e9": {
          "model_module": "@jupyter-widgets/controls",
          "model_name": "HBoxModel",
          "state": {
            "_view_name": "HBoxView",
            "_dom_classes": [],
            "_model_name": "HBoxModel",
            "_view_module": "@jupyter-widgets/controls",
            "_model_module_version": "1.5.0",
            "_view_count": null,
            "_view_module_version": "1.5.0",
            "box_style": "",
            "layout": "IPY_MODEL_10972670535448c0af59d9f017db3bec",
            "_model_module": "@jupyter-widgets/controls",
            "children": [
              "IPY_MODEL_3d9f7121bcfe4e6a81228f813aa32b92",
              "IPY_MODEL_e7118973b89d41e589a99d27772d41f3"
            ]
          }
        },
        "10972670535448c0af59d9f017db3bec": {
          "model_module": "@jupyter-widgets/base",
          "model_name": "LayoutModel",
          "state": {
            "_view_name": "LayoutView",
            "grid_template_rows": null,
            "right": null,
            "justify_content": null,
            "_view_module": "@jupyter-widgets/base",
            "overflow": null,
            "_model_module_version": "1.2.0",
            "_view_count": null,
            "flex_flow": null,
            "width": null,
            "min_width": null,
            "border": null,
            "align_items": null,
            "bottom": null,
            "_model_module": "@jupyter-widgets/base",
            "top": null,
            "grid_column": null,
            "overflow_y": null,
            "overflow_x": null,
            "grid_auto_flow": null,
            "grid_area": null,
            "grid_template_columns": null,
            "flex": null,
            "_model_name": "LayoutModel",
            "justify_items": null,
            "grid_row": null,
            "max_height": null,
            "align_content": null,
            "visibility": null,
            "align_self": null,
            "height": null,
            "min_height": null,
            "padding": null,
            "grid_auto_rows": null,
            "grid_gap": null,
            "max_width": null,
            "order": null,
            "_view_module_version": "1.2.0",
            "grid_template_areas": null,
            "object_position": null,
            "object_fit": null,
            "grid_auto_columns": null,
            "margin": null,
            "display": null,
            "left": null
          }
        },
        "3d9f7121bcfe4e6a81228f813aa32b92": {
          "model_module": "@jupyter-widgets/controls",
          "model_name": "FloatProgressModel",
          "state": {
            "_view_name": "ProgressView",
            "style": "IPY_MODEL_13716e5e01e046efaefcb1a028e9a6b6",
            "_dom_classes": [],
            "description": "Downloading: 100%",
            "_model_name": "FloatProgressModel",
            "bar_style": "success",
            "max": 25,
            "_view_module": "@jupyter-widgets/controls",
            "_model_module_version": "1.5.0",
            "value": 25,
            "_view_count": null,
            "_view_module_version": "1.5.0",
            "orientation": "horizontal",
            "min": 0,
            "description_tooltip": null,
            "_model_module": "@jupyter-widgets/controls",
            "layout": "IPY_MODEL_a1274659cb7c41d1bd61a8b74c6150e2"
          }
        },
        "e7118973b89d41e589a99d27772d41f3": {
          "model_module": "@jupyter-widgets/controls",
          "model_name": "HTMLModel",
          "state": {
            "_view_name": "HTMLView",
            "style": "IPY_MODEL_5ac834f7b9f6420682fe76af6c7bfa47",
            "_dom_classes": [],
            "description": "",
            "_model_name": "HTMLModel",
            "placeholder": "​",
            "_view_module": "@jupyter-widgets/controls",
            "_model_module_version": "1.5.0",
            "value": " 25.0/25.0 [00:15&lt;00:00, 1.57B/s]",
            "_view_count": null,
            "_view_module_version": "1.5.0",
            "description_tooltip": null,
            "_model_module": "@jupyter-widgets/controls",
            "layout": "IPY_MODEL_84dafaab43d6405da167b2beb8012a39"
          }
        },
        "13716e5e01e046efaefcb1a028e9a6b6": {
          "model_module": "@jupyter-widgets/controls",
          "model_name": "ProgressStyleModel",
          "state": {
            "_view_name": "StyleView",
            "_model_name": "ProgressStyleModel",
            "description_width": "initial",
            "_view_module": "@jupyter-widgets/base",
            "_model_module_version": "1.5.0",
            "_view_count": null,
            "_view_module_version": "1.2.0",
            "bar_color": null,
            "_model_module": "@jupyter-widgets/controls"
          }
        },
        "a1274659cb7c41d1bd61a8b74c6150e2": {
          "model_module": "@jupyter-widgets/base",
          "model_name": "LayoutModel",
          "state": {
            "_view_name": "LayoutView",
            "grid_template_rows": null,
            "right": null,
            "justify_content": null,
            "_view_module": "@jupyter-widgets/base",
            "overflow": null,
            "_model_module_version": "1.2.0",
            "_view_count": null,
            "flex_flow": null,
            "width": null,
            "min_width": null,
            "border": null,
            "align_items": null,
            "bottom": null,
            "_model_module": "@jupyter-widgets/base",
            "top": null,
            "grid_column": null,
            "overflow_y": null,
            "overflow_x": null,
            "grid_auto_flow": null,
            "grid_area": null,
            "grid_template_columns": null,
            "flex": null,
            "_model_name": "LayoutModel",
            "justify_items": null,
            "grid_row": null,
            "max_height": null,
            "align_content": null,
            "visibility": null,
            "align_self": null,
            "height": null,
            "min_height": null,
            "padding": null,
            "grid_auto_rows": null,
            "grid_gap": null,
            "max_width": null,
            "order": null,
            "_view_module_version": "1.2.0",
            "grid_template_areas": null,
            "object_position": null,
            "object_fit": null,
            "grid_auto_columns": null,
            "margin": null,
            "display": null,
            "left": null
          }
        },
        "5ac834f7b9f6420682fe76af6c7bfa47": {
          "model_module": "@jupyter-widgets/controls",
          "model_name": "DescriptionStyleModel",
          "state": {
            "_view_name": "StyleView",
            "_model_name": "DescriptionStyleModel",
            "description_width": "",
            "_view_module": "@jupyter-widgets/base",
            "_model_module_version": "1.5.0",
            "_view_count": null,
            "_view_module_version": "1.2.0",
            "_model_module": "@jupyter-widgets/controls"
          }
        },
        "84dafaab43d6405da167b2beb8012a39": {
          "model_module": "@jupyter-widgets/base",
          "model_name": "LayoutModel",
          "state": {
            "_view_name": "LayoutView",
            "grid_template_rows": null,
            "right": null,
            "justify_content": null,
            "_view_module": "@jupyter-widgets/base",
            "overflow": null,
            "_model_module_version": "1.2.0",
            "_view_count": null,
            "flex_flow": null,
            "width": null,
            "min_width": null,
            "border": null,
            "align_items": null,
            "bottom": null,
            "_model_module": "@jupyter-widgets/base",
            "top": null,
            "grid_column": null,
            "overflow_y": null,
            "overflow_x": null,
            "grid_auto_flow": null,
            "grid_area": null,
            "grid_template_columns": null,
            "flex": null,
            "_model_name": "LayoutModel",
            "justify_items": null,
            "grid_row": null,
            "max_height": null,
            "align_content": null,
            "visibility": null,
            "align_self": null,
            "height": null,
            "min_height": null,
            "padding": null,
            "grid_auto_rows": null,
            "grid_gap": null,
            "max_width": null,
            "order": null,
            "_view_module_version": "1.2.0",
            "grid_template_areas": null,
            "object_position": null,
            "object_fit": null,
            "grid_auto_columns": null,
            "margin": null,
            "display": null,
            "left": null
          }
        },
        "09a5982b54eb490aadf4d75c54289311": {
          "model_module": "@jupyter-widgets/controls",
          "model_name": "HBoxModel",
          "state": {
            "_view_name": "HBoxView",
            "_dom_classes": [],
            "_model_name": "HBoxModel",
            "_view_module": "@jupyter-widgets/controls",
            "_model_module_version": "1.5.0",
            "_view_count": null,
            "_view_module_version": "1.5.0",
            "box_style": "",
            "layout": "IPY_MODEL_1aecd0bddede465fa8ecdb760ac10895",
            "_model_module": "@jupyter-widgets/controls",
            "children": [
              "IPY_MODEL_edafb9238c6746e89055f3f22b9e1443",
              "IPY_MODEL_1f12015c23bf43ad85afad27e92e9bd9"
            ]
          }
        },
        "1aecd0bddede465fa8ecdb760ac10895": {
          "model_module": "@jupyter-widgets/base",
          "model_name": "LayoutModel",
          "state": {
            "_view_name": "LayoutView",
            "grid_template_rows": null,
            "right": null,
            "justify_content": null,
            "_view_module": "@jupyter-widgets/base",
            "overflow": null,
            "_model_module_version": "1.2.0",
            "_view_count": null,
            "flex_flow": null,
            "width": null,
            "min_width": null,
            "border": null,
            "align_items": null,
            "bottom": null,
            "_model_module": "@jupyter-widgets/base",
            "top": null,
            "grid_column": null,
            "overflow_y": null,
            "overflow_x": null,
            "grid_auto_flow": null,
            "grid_area": null,
            "grid_template_columns": null,
            "flex": null,
            "_model_name": "LayoutModel",
            "justify_items": null,
            "grid_row": null,
            "max_height": null,
            "align_content": null,
            "visibility": null,
            "align_self": null,
            "height": null,
            "min_height": null,
            "padding": null,
            "grid_auto_rows": null,
            "grid_gap": null,
            "max_width": null,
            "order": null,
            "_view_module_version": "1.2.0",
            "grid_template_areas": null,
            "object_position": null,
            "object_fit": null,
            "grid_auto_columns": null,
            "margin": null,
            "display": null,
            "left": null
          }
        },
        "edafb9238c6746e89055f3f22b9e1443": {
          "model_module": "@jupyter-widgets/controls",
          "model_name": "FloatProgressModel",
          "state": {
            "_view_name": "ProgressView",
            "style": "IPY_MODEL_f9542af7f4e644a7be6cfd66d994ae82",
            "_dom_classes": [],
            "description": "Downloading: 100%",
            "_model_name": "FloatProgressModel",
            "bar_style": "success",
            "max": 1187795641,
            "_view_module": "@jupyter-widgets/controls",
            "_model_module_version": "1.5.0",
            "value": 1187795641,
            "_view_count": null,
            "_view_module_version": "1.5.0",
            "orientation": "horizontal",
            "min": 0,
            "description_tooltip": null,
            "_model_module": "@jupyter-widgets/controls",
            "layout": "IPY_MODEL_a7b41712644b4571b4d0a5e082884dab"
          }
        },
        "1f12015c23bf43ad85afad27e92e9bd9": {
          "model_module": "@jupyter-widgets/controls",
          "model_name": "HTMLModel",
          "state": {
            "_view_name": "HTMLView",
            "style": "IPY_MODEL_b3a98156968d4567b6dcdd853ad9d144",
            "_dom_classes": [],
            "description": "",
            "_model_name": "HTMLModel",
            "placeholder": "​",
            "_view_module": "@jupyter-widgets/controls",
            "_model_module_version": "1.5.0",
            "value": " 1.19G/1.19G [00:15&lt;00:00, 76.3MB/s]",
            "_view_count": null,
            "_view_module_version": "1.5.0",
            "description_tooltip": null,
            "_model_module": "@jupyter-widgets/controls",
            "layout": "IPY_MODEL_f3556ebb02e3419c912330ac27527dfb"
          }
        },
        "f9542af7f4e644a7be6cfd66d994ae82": {
          "model_module": "@jupyter-widgets/controls",
          "model_name": "ProgressStyleModel",
          "state": {
            "_view_name": "StyleView",
            "_model_name": "ProgressStyleModel",
            "description_width": "initial",
            "_view_module": "@jupyter-widgets/base",
            "_model_module_version": "1.5.0",
            "_view_count": null,
            "_view_module_version": "1.2.0",
            "bar_color": null,
            "_model_module": "@jupyter-widgets/controls"
          }
        },
        "a7b41712644b4571b4d0a5e082884dab": {
          "model_module": "@jupyter-widgets/base",
          "model_name": "LayoutModel",
          "state": {
            "_view_name": "LayoutView",
            "grid_template_rows": null,
            "right": null,
            "justify_content": null,
            "_view_module": "@jupyter-widgets/base",
            "overflow": null,
            "_model_module_version": "1.2.0",
            "_view_count": null,
            "flex_flow": null,
            "width": null,
            "min_width": null,
            "border": null,
            "align_items": null,
            "bottom": null,
            "_model_module": "@jupyter-widgets/base",
            "top": null,
            "grid_column": null,
            "overflow_y": null,
            "overflow_x": null,
            "grid_auto_flow": null,
            "grid_area": null,
            "grid_template_columns": null,
            "flex": null,
            "_model_name": "LayoutModel",
            "justify_items": null,
            "grid_row": null,
            "max_height": null,
            "align_content": null,
            "visibility": null,
            "align_self": null,
            "height": null,
            "min_height": null,
            "padding": null,
            "grid_auto_rows": null,
            "grid_gap": null,
            "max_width": null,
            "order": null,
            "_view_module_version": "1.2.0",
            "grid_template_areas": null,
            "object_position": null,
            "object_fit": null,
            "grid_auto_columns": null,
            "margin": null,
            "display": null,
            "left": null
          }
        },
        "b3a98156968d4567b6dcdd853ad9d144": {
          "model_module": "@jupyter-widgets/controls",
          "model_name": "DescriptionStyleModel",
          "state": {
            "_view_name": "StyleView",
            "_model_name": "DescriptionStyleModel",
            "description_width": "",
            "_view_module": "@jupyter-widgets/base",
            "_model_module_version": "1.5.0",
            "_view_count": null,
            "_view_module_version": "1.2.0",
            "_model_module": "@jupyter-widgets/controls"
          }
        },
        "f3556ebb02e3419c912330ac27527dfb": {
          "model_module": "@jupyter-widgets/base",
          "model_name": "LayoutModel",
          "state": {
            "_view_name": "LayoutView",
            "grid_template_rows": null,
            "right": null,
            "justify_content": null,
            "_view_module": "@jupyter-widgets/base",
            "overflow": null,
            "_model_module_version": "1.2.0",
            "_view_count": null,
            "flex_flow": null,
            "width": null,
            "min_width": null,
            "border": null,
            "align_items": null,
            "bottom": null,
            "_model_module": "@jupyter-widgets/base",
            "top": null,
            "grid_column": null,
            "overflow_y": null,
            "overflow_x": null,
            "grid_auto_flow": null,
            "grid_area": null,
            "grid_template_columns": null,
            "flex": null,
            "_model_name": "LayoutModel",
            "justify_items": null,
            "grid_row": null,
            "max_height": null,
            "align_content": null,
            "visibility": null,
            "align_self": null,
            "height": null,
            "min_height": null,
            "padding": null,
            "grid_auto_rows": null,
            "grid_gap": null,
            "max_width": null,
            "order": null,
            "_view_module_version": "1.2.0",
            "grid_template_areas": null,
            "object_position": null,
            "object_fit": null,
            "grid_auto_columns": null,
            "margin": null,
            "display": null,
            "left": null
          }
        }
      }
    }
  },
  "cells": [
    {
      "cell_type": "markdown",
      "metadata": {
        "id": "view-in-github",
        "colab_type": "text"
      },
      "source": [
        "<a href=\"https://colab.research.google.com/github/BNkosi/odin/blob/master/notebooks/question_generator.ipynb\" target=\"_parent\"><img src=\"https://colab.research.google.com/assets/colab-badge.svg\" alt=\"Open In Colab\"/></a>"
      ]
    },
    {
      "cell_type": "code",
      "metadata": {
        "id": "SZ4UT7RVVAWn"
      },
      "source": [
        "import os\n",
        "import re\n",
        "import json\n",
        "from transformers import AutoModelWithLMHead, AutoTokenizer"
      ],
      "execution_count": 4,
      "outputs": []
    },
    {
      "cell_type": "code",
      "metadata": {
        "id": "JE9rs_hOOZRz"
      },
      "source": [
        "class QuestionGenerator:\n",
        "    def __init__(self, doc_dir: str = '/content', question_dir: str = 'data/training/questions.json', max_length: int=64):\n",
        "        self.doc_dir = doc_dir\n",
        "        self.qu_dir = question_dir\n",
        "\n",
        "    def list_docs(self):\n",
        "        for filename in os.listdir(self.doc_dir):\n",
        "            print(filename)\n",
        "\n",
        "    def load_models(self):\n",
        "        self.tokenizer = AutoTokenizer.from_pretrained(\"mrm8488/t5-base-finetuned-question-generation-ap\")\n",
        "        self.model = AutoModelWithLMHead.from_pretrained(\"mrm8488/t5-base-finetuned-question-generation-ap\")\n",
        "\n",
        "    def generate_qs(self):\n",
        "        # Fetch documents\n",
        "        self.docs=list()\n",
        "        self.questions={\n",
        "            \"question\": list(),\n",
        "            \"title\": list(),\n",
        "            \"url\": list(),\n",
        "            \"context\": list(),\n",
        "        }\n",
        "        for filename in os.listdir(self.doc_dir):\n",
        "            if filename.endswith(\".txt\"): \n",
        "                with open(str(self.doc_dir+\"/\"+filename), mode = 'r', encoding='utf-8') as doc:\n",
        "                    text = doc.read()\n",
        "                    text = self.clean_website_text(text)\n",
        "                    self.docs.append({\"title\": filename, \"text\": text})\n",
        "                    doc.close()\n",
        "            else:\n",
        "                continue\n",
        "        \n",
        "        # Generate list of training questions\n",
        "        # for each document\n",
        "        for doc in range(len(self.docs)):\n",
        "            # get data\n",
        "            title = self.docs[doc][\"title\"]\n",
        "            text = self.docs[doc][\"text\"]\n",
        "            # text = self.sequence_limiter(text)\n",
        "            link = [line for line in text.split(\"\\n\") if line.startswith(\"https:\")]\n",
        "            sentences = [line +\".\" for line in text.split(\"\\n\") if line.startswith(\"https:\") == False or line != \"\" or line!= \" \"]\n",
        "            \n",
        "            \n",
        "    \n",
        "            for i in range(len(sentences[:6])):\n",
        "                for word in sentences[i].split():\n",
        "                    print(f\"{word}\")\n",
        "                    question = self.get_question(word, sentences[i])\n",
        "                    question = re.sub('question: ', '', question)\n",
        "                    print(f\"{title}, {question}\")\n",
        "                    self.questions[\"question\"].append(question)\n",
        "                    self.questions[\"title\"].append(title)\n",
        "                    self.questions[\"url\"].append(link)\n",
        "                    self.questions[\"context\"].append(text)\n",
        "        # Save questions to json\n",
        "        with open(self.qu_dir, 'w') as fp:\n",
        "            json.dump(self.questions, fp)\n",
        "            fp.close()\n",
        "            \n",
        "\n",
        "\n",
        "    def get_question(self, answer, context, max_length=64):\n",
        "        input_text = \"answer: %s  context: %s </s>\" % (answer, context)\n",
        "        features = self.tokenizer([input_text], return_tensors='pt')\n",
        "\n",
        "        output = self.model.generate(\n",
        "            input_ids=features['input_ids'],\n",
        "            attention_mask=features['attention_mask'],\n",
        "            max_length=max_length\n",
        "        )\n",
        "        return self.tokenizer.decode(output[0])\n",
        "\n",
        "    @staticmethod\n",
        "    def clean_website_text(text: str()):\n",
        "        # removing lines starting with \"<\", \">\", \"=\"\n",
        "        exclude = []\n",
        "        for i in range(len(text.split(\"\\n\"))):\n",
        "            if text.split(\"\\n\")[i].startswith(\"<\"):\n",
        "                exclude.append(text.split(\"\\n\")[i])\n",
        "            elif text.split(\"\\n\")[i].startswith(\"=\"):\n",
        "                exclude.append(text.split(\"\\n\")[i])\n",
        "            elif text.split(\"\\n\")[i].startswith(\">\"):\n",
        "                exclude.append(text.split(\"\\n\")[i])\n",
        "            elif text.split(\"\\n\")[i] == \"\":\n",
        "                exclude.append(text.split(\"\\n\")[i])\n",
        "            elif text.split(\"\\n\")[i] == \" \":\n",
        "                exclude.append(text.split(\"\\n\")[i])\n",
        "        text_clean = []\n",
        "        for i in text.split(\"\\n\"):\n",
        "            if i not in exclude:\n",
        "                text_clean.append(i)\n",
        "        \n",
        "        text = \"\\n\".join(text_clean)\n",
        "        \n",
        "        # Text cleaning\n",
        "        text = re.sub(\"Jan \", \"January \", text)\n",
        "        text = re.sub(\"Feb \", \"February \", text)\n",
        "        text = re.sub(\"Mar \", \"March \", text)\n",
        "        text = re.sub(\"Apr \", \"April \", text)\n",
        "        text = re.sub(\"May \", \"May \", text)\n",
        "        text = re.sub(\"Jun \", \"June \", text)\n",
        "        text = re.sub(\"Jul \", \"July \", text)\n",
        "        text = re.sub(\"Aug \", \"August \", text)\n",
        "        text = re.sub(\"Sep \", \"September \", text)\n",
        "        text = re.sub(\"Oct \", \"October \", text)\n",
        "        text = re.sub(\"Nov \", \"November \", text)\n",
        "        text = re.sub(\"Dec \", \"December \", text)\n",
        "        text = re.sub(\"&\", \"and\", text)\n",
        "        text = re.sub(\"T�s\", \"terms\", text)\n",
        "        text = re.sub(\"C�s\", \"conditions\", text)\n",
        "        text = re.sub(\"sure�\", \"sure?\", text)\n",
        "        text = re.sub(\"�Find your tribe�\", \"Find your tribe\", text)\n",
        "        text = re.sub(\"NQF\", \"National Qualifications Framework (NQF)\", text)\n",
        "        text = re.sub(\"team�s\", \"team's\", text)\n",
        "        text = re.sub(\"We're\", \"We are\", text)\n",
        "        text = re.sub(\"we're\", \"we are\", text)\n",
        "        text = re.sub(\"AWS\", \"Amazon Web Services\", text)\n",
        "        text = re.sub(\"Amazon's\", \"Amazon\", text)\n",
        "        text = re.sub(\"EC2\", \"Elastic Cloud Compute\", text)\n",
        "        text = re.sub(\"EBS\", \"Elastic Block Store\", text)\n",
        "        text = re.sub(\"EFS\", \"Elastic File Store\", text)\n",
        "        text = re.sub(\"S3\", \"Simple Storage, Service\", text)\n",
        "        text = re.sub(\"RDS\", \"Relational Database Service\", text)\n",
        "        text = re.sub(\"VPC\", \"Virtual Private Cloud\", text)\n",
        "        text = re.sub(\"Services\", \"\", text)\n",
        "        text = re.sub(\"IAM\", \"Identity and Access Management\", text)\n",
        "        text = re.sub(\"CSIR\", \"Council for Scientific and Industrial Research\", text)\n",
        "        text = re.sub(\"2/3\", \"2 to 3\", text)\n",
        "        text = re.sub(\"NLP\", \"Natural Language Processing\", text)\n",
        "        text = re.sub(\"JanuarydeWet\", \"January de Wet\", text)\n",
        "        text = re.sub(\"UK\", \"United Kingdom\", text)\n",
        "        text = re.sub(\"fin-tech\", \"financial services technology\", text)\n",
        "        text = re.sub(\"�ll\", \" will\", text)\n",
        "        text = re.sub(\"n�t\", \" not\", text)\n",
        "        text = re.sub(\"1:1\", \"one-on-one\", text)\n",
        "        text = re.sub(\"we�ve\", \"we have\", text)\n",
        "        text = re.sub(\"We�ve\", \"we have\", text)\n",
        "        text = re.sub(\"We�re\", \"We are\", text)\n",
        "        text = re.sub(\"we�re\", \"we are\", text)\n",
        "        text = re.sub(\"/\", \" or \", text)\n",
        "        text = re.sub(\"API�s\", \"application programming interfaces\", text)\n",
        "        text = re.sub(\"ANN�s\", \"Artificial Neural Networks\", text)\n",
        "        text = re.sub(\"CNN�s\", \"Convolutional Neural Networks\", text)\n",
        "        text = re.sub(\"RNN�s\", \"Recurrent Neural Networks\", text)\n",
        "        text = re.sub(\"it�s\", \"it is\", text)\n",
        "        text = re.sub(\"\\t\", \" \", text)\n",
        "        text = re.sub(\"CAs\", \"Chartered Accountants\", text)\n",
        "        text = re.sub(\"CA's\", \"Chartered Accountant's\", text)\n",
        "        text = re.sub(\"An innovate\", \"An innovative\", text)\n",
        "        text = re.sub(\"it's\", \"it is\", text)\n",
        "        text = re.sub(\"It's\", \"It is\", text)\n",
        "        text = re.sub(\"don't\", \"do not\", text)\n",
        "        text = re.sub(\"There's\", \"There is\", text)\n",
        "        text = re.sub(\"you'll\", \"you will\", text)\n",
        "        text = re.sub(\"you're\", \"you are\", text)\n",
        "        text = re.sub(\"We've\", \"We have\", text)\n",
        "        text = re.sub(\"we've\", \"we have\", text)\n",
        "        text = re.sub(\"you�re\", \"you are\", text)\n",
        "        text = re.sub(\"�CTC�\", \"(CTC)\", text)\n",
        "        text = re.sub(\"�Qualifying Position�\", '\"Qualifying Position\"', text)\n",
        "        text = re.sub(\".Explore\", \"Explore\", text)\n",
        "        text = re.sub(\"Explore�s\", \"Explore's\", text)\n",
        "        text = re.sub(\"you�ve\", \"you have\", text)\n",
        "        text = re.sub(\"�TWOE�\", \"(TWOE)\", text)\n",
        "        text = re.sub(\"coaches�\", \"coaches'\", text)\n",
        "        text = re.sub(\"IRP5�s\", \"IRP5's\", text)\n",
        "        text = re.sub(\"sill\", \"will\", text)\n",
        "        text = re.sub(\"we'll\", \"we will\", text)\n",
        "        text = re.sub(\"�ve\", \" have\", text)\n",
        "        text = re.sub(\"It�s been\", \"It has been\", text)\n",
        "        text = re.sub(\"It�s a\", \"It is a\", text)\n",
        "        text = re.sub(\"It�s open\", \"It is open\", text)\n",
        "        text = re.sub(\"It�s used\", \"It is used\", text)\n",
        "        text = re.sub(\"It�s free\", \"It is free\", text)\n",
        "        text = re.sub(\"It�s very\", \"It is very\", text)\n",
        "        text = re.sub(\"SVM�s\", \"Support Vector Machines\", text)\n",
        "        text = re.sub(\"I�m\", \" I am\", text)\n",
        "        text = re.sub(\"country�s\", \"country's\", text)\n",
        "        text = re.sub(\"projects�helping\", \"projects - helping\", text)\n",
        "        text = re.sub(\"EXPLORE�s\", \"EXPLORE's\", text)\n",
        "        text = re.sub(\"That�s\", \"That is\", text)\n",
        "        text = re.sub(\"month�s\", \"month's\", text)\n",
        "        text = re.sub(\"South African�s\", \"South Africans\", text)\n",
        "        text = re.sub(\"Data Scientist�s\", \"Data Scientist's\", text)\n",
        "        text = re.sub(\"�Data Scientist�\", '\"Data Scientist\"', text)\n",
        "        text = re.sub(\"�sexiest profession of the 21st Century�\", '\"sexiest profession of the 21st Century\"', text)\n",
        "        text = re.sub(\"email�protected\", \"email protected\", text)\n",
        "        text = re.sub(\"python�s\", \"Python's\", text)\n",
        "        text = re.sub(\"he�s\", \"he is\", text)\n",
        "        text = re.sub(\"�Reading�s\", \"Reading's\", text)\n",
        "        text = re.sub(\"1,000�s\", \"thousands\", text)\n",
        "        text = re.sub(\"They�re\", \"They are\", text)\n",
        "        text = re.sub(\"they�re\", \"they are\", text)\n",
        "        text = re.sub(\"customer�s\", \"customer's\", text)\n",
        "        text = re.sub('\\\\\"', \"\", text)\n",
        "        text = re.sub(\" � \", \" - \", text)\n",
        "        text = re.sub(\"�\", \"\", text)    \n",
        "        # Join text into one line\n",
        "        text = \" \".join(text.split('\\n'))\n",
        "        return text\n",
        "\n",
        "    # @staticmethod\n",
        "    # def sequence_limiter(text):\n",
        "    #     text = text.split(\". \")\n",
        "    #     text = \". \".join([sent if len(sent) <=512 else sent[:-512] for sent in text])\n",
        "    #     return text"
      ],
      "execution_count": 5,
      "outputs": []
    },
    {
      "cell_type": "code",
      "metadata": {
        "id": "WlJtY6jnOb93",
        "outputId": "9d9723d3-f9e9-4bfa-a165-90ab8cfcd603",
        "colab": {
          "base_uri": "https://localhost:8080/",
          "height": 1000,
          "referenced_widgets": [
            "0f50ddbc0468482a9081f58f5f79665a",
            "4b7e582eb35e487fbbccc7225fdb996d",
            "118f492dde584f4fa681b3c145300d8c",
            "e23bc7a9ded448439f5266fe43cd074e",
            "f7ad2abb086a4adcb4158ae8853bc3bf",
            "c1e1e0ee8d75414994e53058ea9a373d",
            "5c674412594f414482a6a70e2c15a89e",
            "a9268f04f1b3466694b323ec6dad6e8e",
            "4560053b91064fcfa8195814afe46240",
            "d464ab104e074d67b576451f66321540",
            "38d7876bdd744ce49737e4f5c7c976be",
            "eb3a9f51095f4118ad7e5bc1c48a8d2c",
            "3072990ea131485091a4be82ad804d96",
            "71cb10cc45ce427a8b94e67b8d489498",
            "6173d7ff64cb482899368a42031d09ed",
            "384ea5e9b6f44cb9a392ed7df915bfae",
            "5e1d63ca64cd4a2487ba86d787a2113c",
            "4d6a2fc6486a475281128ea9f317e47f",
            "2ad121b3b0254afb8de1145ad43ca97b",
            "b7a2871e86624baa8824786ba164dd5b",
            "b6703e443a03496c8fc2641ce4cd3b10",
            "f58bfe12ea3f4c75b7e309c3c942b5b7",
            "94e8075d42a2478bbf1ea85946318646",
            "0774574ea1cc4a5b8035a7f924a6b03f",
            "5f0412cf1dfe43598b77956786f514e9",
            "10972670535448c0af59d9f017db3bec",
            "3d9f7121bcfe4e6a81228f813aa32b92",
            "e7118973b89d41e589a99d27772d41f3",
            "13716e5e01e046efaefcb1a028e9a6b6",
            "a1274659cb7c41d1bd61a8b74c6150e2",
            "5ac834f7b9f6420682fe76af6c7bfa47",
            "84dafaab43d6405da167b2beb8012a39",
            "09a5982b54eb490aadf4d75c54289311",
            "1aecd0bddede465fa8ecdb760ac10895",
            "edafb9238c6746e89055f3f22b9e1443",
            "1f12015c23bf43ad85afad27e92e9bd9",
            "f9542af7f4e644a7be6cfd66d994ae82",
            "a7b41712644b4571b4d0a5e082884dab",
            "b3a98156968d4567b6dcdd853ad9d144",
            "f3556ebb02e3419c912330ac27527dfb"
          ]
        }
      },
      "source": [
        "generator = QuestionGenerator()\n",
        "generator.list_docs()\n",
        "generator.load_models()\n",
        "generator.generate_qs()"
      ],
      "execution_count": null,
      "outputs": [
        {
          "output_type": "stream",
          "text": [
            ".config\n",
            "explore_course_info_34_3_online.txt\n",
            "explore_course_info_34_3.txt\n",
            "explore_enterprise_summary.txt\n",
            "explore_course_info_39_5.txt\n",
            "explore_course_info_40_5.txt\n",
            "SQL_Prospectus_2020.txt\n",
            "explore_password.txt\n",
            "explore_course_info_4_3_1.txt\n",
            "explore_alumni_student-reviews.txt\n",
            "explore_course_info_41_5.txt\n",
            "explore_course_info_42_5.txt\n",
            "explore_course_info_1_3.txt\n",
            "explore_course_info_40_5_online.txt\n",
            "explore_course_info_54_4.txt\n",
            "explore_course_info_43_5.txt\n",
            "explore_course_info_4_3.txt\n",
            "explore_course_info_2_4.txt\n",
            "explore_course_info_41_5_online.txt\n",
            "explore_course_info_1_3_online.txt\n",
            "explore_course_info_3_3.txt\n",
            "explore_course_info_4_3_online.txt\n",
            "explore_about-us_our-values.txt\n",
            "explore_course_info_38_5.txt\n",
            "explore_course_info_44_5_online.txt\n",
            "explore_course_info_35_4.txt\n",
            "explore_course_info_8_4.txt\n",
            "explore_course_info_3_3_1.txt\n",
            "explore_course_info_53_5_online.txt\n",
            "explore_enterprise_build-pipeline.txt\n",
            "explore_alumni_hire-explorer.txt\n",
            "explore_course_info_45_5_online.txt\n",
            "explore_course_info_36_4.txt\n",
            "explore_contact.txt\n",
            "explore_course_info_46_5_online.txt\n",
            "explore_course_info_42_5_online.txt\n",
            "explore_login.txt\n",
            "explore_about-us_our-courses.txt\n",
            "explore_course_info_3_3_online.txt\n",
            "explore_course_info_43_5_online.txt\n",
            "explore_.txt\n",
            "explore_course_info_1_3_1.txt\n",
            "explore_signup.txt\n",
            "explore_course_info_38_5_online.txt\n",
            "explore_course_info_39_5_online.txt\n",
            "explore_course_info_34_3_1.txt\n",
            "explore_course_info_1_3_oncampus.txt\n",
            "sample_data\n"
          ],
          "name": "stdout"
        },
        {
          "output_type": "display_data",
          "data": {
            "application/vnd.jupyter.widget-view+json": {
              "model_id": "0f50ddbc0468482a9081f58f5f79665a",
              "version_minor": 0,
              "version_major": 2
            },
            "text/plain": [
              "HBox(children=(FloatProgress(value=0.0, description='Downloading', max=1230.0, style=ProgressStyle(description…"
            ]
          },
          "metadata": {
            "tags": []
          }
        },
        {
          "output_type": "stream",
          "text": [
            "\n"
          ],
          "name": "stdout"
        },
        {
          "output_type": "display_data",
          "data": {
            "application/vnd.jupyter.widget-view+json": {
              "model_id": "4560053b91064fcfa8195814afe46240",
              "version_minor": 0,
              "version_major": 2
            },
            "text/plain": [
              "HBox(children=(FloatProgress(value=0.0, description='Downloading', max=791656.0, style=ProgressStyle(descripti…"
            ]
          },
          "metadata": {
            "tags": []
          }
        },
        {
          "output_type": "stream",
          "text": [
            "\n"
          ],
          "name": "stdout"
        },
        {
          "output_type": "display_data",
          "data": {
            "application/vnd.jupyter.widget-view+json": {
              "model_id": "5e1d63ca64cd4a2487ba86d787a2113c",
              "version_minor": 0,
              "version_major": 2
            },
            "text/plain": [
              "HBox(children=(FloatProgress(value=0.0, description='Downloading', max=1786.0, style=ProgressStyle(description…"
            ]
          },
          "metadata": {
            "tags": []
          }
        },
        {
          "output_type": "stream",
          "text": [
            "\n"
          ],
          "name": "stdout"
        },
        {
          "output_type": "display_data",
          "data": {
            "application/vnd.jupyter.widget-view+json": {
              "model_id": "5f0412cf1dfe43598b77956786f514e9",
              "version_minor": 0,
              "version_major": 2
            },
            "text/plain": [
              "HBox(children=(FloatProgress(value=0.0, description='Downloading', max=25.0, style=ProgressStyle(description_w…"
            ]
          },
          "metadata": {
            "tags": []
          }
        },
        {
          "output_type": "stream",
          "text": [
            "\n"
          ],
          "name": "stdout"
        },
        {
          "output_type": "stream",
          "text": [
            "/usr/local/lib/python3.6/dist-packages/transformers/modeling_auto.py:821: FutureWarning: The class `AutoModelWithLMHead` is deprecated and will be removed in a future version. Please use `AutoModelForCausalLM` for causal language models, `AutoModelForMaskedLM` for masked language models and `AutoModelForSeq2SeqLM` for encoder-decoder models.\n",
            "  FutureWarning,\n"
          ],
          "name": "stderr"
        },
        {
          "output_type": "display_data",
          "data": {
            "application/vnd.jupyter.widget-view+json": {
              "model_id": "09a5982b54eb490aadf4d75c54289311",
              "version_minor": 0,
              "version_major": 2
            },
            "text/plain": [
              "HBox(children=(FloatProgress(value=0.0, description='Downloading', max=1187795641.0, style=ProgressStyle(descr…"
            ]
          },
          "metadata": {
            "tags": []
          }
        },
        {
          "output_type": "stream",
          "text": [
            "\n"
          ],
          "name": "stdout"
        },
        {
          "output_type": "stream",
          "text": [
            "/usr/local/lib/python3.6/dist-packages/transformers/tokenization_t5.py:186: UserWarning: This sequence already has </s>. In future versions this behavior may lead to duplicated eos tokens being added.\n",
            "  f\"This sequence already has {self.eos_token}. In future versions this behavior may lead to duplicated eos tokens being added.\"\n",
            "Token indices sequence length is longer than the specified maximum sequence length for this model (2238 > 512). Running this sequence through the model will result in indexing errors\n"
          ],
          "name": "stderr"
        },
        {
          "output_type": "stream",
          "text": [
            "https:\n"
          ],
          "name": "stdout"
        },
        {
          "output_type": "stream",
          "text": [
            "Token indices sequence length is longer than the specified maximum sequence length for this model (2237 > 512). Running this sequence through the model will result in indexing errors\n"
          ],
          "name": "stderr"
        },
        {
          "output_type": "stream",
          "text": [
            "explore_course_info_34_3_online.txt, What is the URL of the Explore Data Science Academy website?\n",
            "or\n"
          ],
          "name": "stdout"
        },
        {
          "output_type": "stream",
          "text": [
            "Token indices sequence length is longer than the specified maximum sequence length for this model (2237 > 512). Running this sequence through the model will result in indexing errors\n"
          ],
          "name": "stderr"
        },
        {
          "output_type": "stream",
          "text": [
            "explore_course_info_34_3_online.txt, What is the name of the course that EXPLORE offers?\n",
            "or\n"
          ],
          "name": "stdout"
        },
        {
          "output_type": "stream",
          "text": [
            "Token indices sequence length is longer than the specified maximum sequence length for this model (2242 > 512). Running this sequence through the model will result in indexing errors\n"
          ],
          "name": "stderr"
        },
        {
          "output_type": "stream",
          "text": [
            "explore_course_info_34_3_online.txt, What is the name of the course that EXPLORE offers?\n",
            "explore-datascience.net\n"
          ],
          "name": "stdout"
        },
        {
          "output_type": "stream",
          "text": [
            "Token indices sequence length is longer than the specified maximum sequence length for this model (2237 > 512). Running this sequence through the model will result in indexing errors\n"
          ],
          "name": "stderr"
        },
        {
          "output_type": "stream",
          "text": [
            "explore_course_info_34_3_online.txt, What is the URL of the course that EXPLORE offers?\n",
            "or\n"
          ],
          "name": "stdout"
        },
        {
          "output_type": "stream",
          "text": [
            "Token indices sequence length is longer than the specified maximum sequence length for this model (2237 > 512). Running this sequence through the model will result in indexing errors\n"
          ],
          "name": "stderr"
        },
        {
          "output_type": "stream",
          "text": [
            "explore_course_info_34_3_online.txt, What is the name of the course that EXPLORE offers?\n",
            "course\n"
          ],
          "name": "stdout"
        },
        {
          "output_type": "stream",
          "text": [
            "Token indices sequence length is longer than the specified maximum sequence length for this model (2237 > 512). Running this sequence through the model will result in indexing errors\n"
          ],
          "name": "stderr"
        },
        {
          "output_type": "stream",
          "text": [
            "explore_course_info_34_3_online.txt, What is explore-datascience.net?\n",
            "or\n"
          ],
          "name": "stdout"
        },
        {
          "output_type": "stream",
          "text": [
            "Token indices sequence length is longer than the specified maximum sequence length for this model (2237 > 512). Running this sequence through the model will result in indexing errors\n"
          ],
          "name": "stderr"
        },
        {
          "output_type": "stream",
          "text": [
            "explore_course_info_34_3_online.txt, What is the name of the course that EXPLORE offers?\n",
            "info\n"
          ],
          "name": "stdout"
        },
        {
          "output_type": "stream",
          "text": [
            "Token indices sequence length is longer than the specified maximum sequence length for this model (2237 > 512). Running this sequence through the model will result in indexing errors\n"
          ],
          "name": "stderr"
        },
        {
          "output_type": "stream",
          "text": [
            "explore_course_info_34_3_online.txt, What is the name of the course that explore-datascience.net offers?\n",
            "or\n"
          ],
          "name": "stdout"
        },
        {
          "output_type": "stream",
          "text": [
            "Token indices sequence length is longer than the specified maximum sequence length for this model (2237 > 512). Running this sequence through the model will result in indexing errors\n"
          ],
          "name": "stderr"
        },
        {
          "output_type": "stream",
          "text": [
            "explore_course_info_34_3_online.txt, What is the name of the course that EXPLORE offers?\n",
            "34\n"
          ],
          "name": "stdout"
        },
        {
          "output_type": "stream",
          "text": [
            "Token indices sequence length is longer than the specified maximum sequence length for this model (2237 > 512). Running this sequence through the model will result in indexing errors\n"
          ],
          "name": "stderr"
        },
        {
          "output_type": "stream",
          "text": [
            "explore_course_info_34_3_online.txt, How many hours of study are available on EXPLORE?\n",
            "or\n"
          ],
          "name": "stdout"
        },
        {
          "output_type": "stream",
          "text": [
            "Token indices sequence length is longer than the specified maximum sequence length for this model (2237 > 512). Running this sequence through the model will result in indexing errors\n"
          ],
          "name": "stderr"
        },
        {
          "output_type": "stream",
          "text": [
            "explore_course_info_34_3_online.txt, What is the name of the course that EXPLORE offers?\n",
            "3\n"
          ],
          "name": "stdout"
        },
        {
          "output_type": "stream",
          "text": [
            "Token indices sequence length is longer than the specified maximum sequence length for this model (2237 > 512). Running this sequence through the model will result in indexing errors\n"
          ],
          "name": "stderr"
        },
        {
          "output_type": "stream",
          "text": [
            "explore_course_info_34_3_online.txt, How many hours of study are available on EXPLORE?\n",
            "or\n"
          ],
          "name": "stdout"
        },
        {
          "output_type": "stream",
          "text": [
            "Token indices sequence length is longer than the specified maximum sequence length for this model (2237 > 512). Running this sequence through the model will result in indexing errors\n"
          ],
          "name": "stderr"
        },
        {
          "output_type": "stream",
          "text": [
            "explore_course_info_34_3_online.txt, What is the name of the course that EXPLORE offers?\n",
            "online\n"
          ],
          "name": "stdout"
        },
        {
          "output_type": "stream",
          "text": [
            "Token indices sequence length is longer than the specified maximum sequence length for this model (2237 > 512). Running this sequence through the model will result in indexing errors\n"
          ],
          "name": "stderr"
        },
        {
          "output_type": "stream",
          "text": [
            "explore_course_info_34_3_online.txt, Where can you enroll?\n",
            "Long\n"
          ],
          "name": "stdout"
        },
        {
          "output_type": "stream",
          "text": [
            "Token indices sequence length is longer than the specified maximum sequence length for this model (2238 > 512). Running this sequence through the model will result in indexing errors\n"
          ],
          "name": "stderr"
        },
        {
          "output_type": "stream",
          "text": [
            "explore_course_info_34_3_online.txt, What type of course qualifications are SETA accredited?\n",
            "Courses\n"
          ],
          "name": "stdout"
        },
        {
          "output_type": "stream",
          "text": [
            "Token indices sequence length is longer than the specified maximum sequence length for this model (2237 > 512). Running this sequence through the model will result in indexing errors\n"
          ],
          "name": "stderr"
        },
        {
          "output_type": "stream",
          "text": [
            "explore_course_info_34_3_online.txt, What is the name of the type of online course that EXPLORE offers?\n",
            "Full\n"
          ],
          "name": "stdout"
        },
        {
          "output_type": "stream",
          "text": [
            "Token indices sequence length is longer than the specified maximum sequence length for this model (2237 > 512). Running this sequence through the model will result in indexing errors\n"
          ],
          "name": "stderr"
        },
        {
          "output_type": "stream",
          "text": [
            "explore_course_info_34_3_online.txt, What type of course is EXPLORE offering?\n",
            "time\n"
          ],
          "name": "stdout"
        }
      ]
    },
    {
      "cell_type": "code",
      "metadata": {
        "id": "zbdMLrBDPKRl"
      },
      "source": [
        ""
      ],
      "execution_count": null,
      "outputs": []
    }
  ]
}