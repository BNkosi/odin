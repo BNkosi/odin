{
 "cells": [
  {
   "cell_type": "markdown",
   "metadata": {},
   "source": [
    "# Zeus Examples\n",
    "The following questions are intended to prove various use cases and should not be confused with the final product.\n",
    "\n",
    "The questions to be answered are:\n",
    "* Onboarding:\n",
    "    - What are Explore’s fundamental values?\n",
    "    - What are the payments plans?\n",
    "* Administration:\n",
    "    - When does is the next Advanced Python course?\n",
    "    - When is the next coding challenge due?*\n",
    "* Information retrieval:\n",
    "    - Who are the people at Explore?\n",
    "    - What are the dimensionality reduction techniques?*\n",
    "* Human hand-over:\n",
    "    - The auto-grader isn’t working\n"
   ]
  },
  {
   "cell_type": "code",
   "execution_count": 1,
   "metadata": {},
   "outputs": [],
   "source": [
    "## Libraries\n",
    "import requests"
   ]
  },
  {
   "cell_type": "markdown",
   "metadata": {},
   "source": [
    "## Onboarding\n",
    "Onboarding requires a direct answer"
   ]
  },
  {
   "cell_type": "code",
   "execution_count": 12,
   "metadata": {},
   "outputs": [],
   "source": [
    "url = 'http://127.0.0.1:8000/models/1/doc-qa'\n",
    "data = '{\"questions\": [\"When is the next data science course?\"], \"top_k_retriever\": 10, \"top_k_reader\": 4}'\n",
    "\n",
    "response = requests.post(url, data).json()"
   ]
  },
  {
   "cell_type": "markdown",
   "metadata": {},
   "source": [
    "Q1: What are Explore’s fundamental values?"
   ]
  },
  {
   "cell_type": "code",
   "execution_count": 13,
   "metadata": {},
   "outputs": [
    {
     "output_type": "stream",
     "name": "stdout",
     "text": [
      "{'results': [{'question': 'When is the next data science course?', 'answers': [{'answer': 'March 29, 2021', 'score': 17.577646255493164, 'probability': 0.8999983084013208, 'context': ' calculations on them with the intention of analysing the data for insight. We cover a broad range of subject matter to get you comfortable with one of the most powerful programming languages in use today. Enroll now 6 weeks At 10 hrs or week March 29, 2021 Basic Analytical Background Upcoming Courses Courses coming soon Our expert scientists have crafted world-class content to ensure learning happens in an engaging, friendly and professional way. Each course allows for varied levels of experien', 'offset_start': 243, 'offset_end': 257, 'offset_start_in_doc': 1130, 'offset_end_in_doc': 1144, 'document_id': 'bad81e9e-de99-49da-aade-96f0058c88ef', 'meta': {'name': 'explore_course_info_39_5.txt'}}, {'answer': 'March 29, 2021', 'score': 17.537452697753906, 'probability': 0.899545214461714, 'context': ' calculations on them with the intention of analysing the data for insight. We cover a broad range of subject matter to get you comfortable with one of the most powerful programming languages in use today. Enroll now 6 weeks At 10 hrs or week March 29, 2021 Basic Analytical Background Upcoming Courses Courses coming soon Our expert scientists have crafted world-class content to ensure learning happens in an engaging, friendly and professional way. Each course allows for varied levels of experien', 'offset_start': 243, 'offset_end': 257, 'offset_start_in_doc': 1140, 'offset_end_in_doc': 1154, 'document_id': '7112c2a0-1e70-434c-95f3-41d44ab1c3b6', 'meta': {'name': 'explore_course_info_39_5_online.txt'}}, {'answer': 'January 25, 2021', 'score': 15.904779434204102, 'probability': 0.8795417093092741, 'context': 'tact Us Sign In  Online: Part-time Join us to learn regression algorithms, different regularisation techniques, which models to use when, and how to optimise model performance using hyperparameter tuning. Enroll now 6 weeks At 10 hrs or week January 25, 2021 Python coding experience [Python for Data Science Digital Skill], Analytical Background Upcoming Courses Courses coming soon Our expert scientists have crafted world-class content to ensure learning happens in an engaging, friendly and profe', 'offset_start': 242, 'offset_end': 258, 'offset_start_in_doc': 992, 'offset_end_in_doc': 1008, 'document_id': '258670d9-cb17-410e-b8d1-987d053e0438', 'meta': {'name': 'explore_course_info_41_5.txt'}}, {'answer': 'May 17, 2021', 'score': 15.718502044677734, 'probability': 0.8770528598136625, 'context': 'ompelling stories is a key capability of the data scientist’s toolkit. We teach the latest dashboarding technologies as a key skill to deliver the insights and recommendations that your data is telling you. Enroll now 6 weeks At 10 hrs or week May 17, 2021 Basic Analytical Background Upcoming Courses May 17 - June 27  Our expert scientists have crafted world-class content to ensure learning happens in an engaging, friendly and professional way. Each course allows for varied levels of experience ', 'offset_start': 244, 'offset_end': 256, 'offset_start_in_doc': 1078, 'offset_end_in_doc': 1090, 'document_id': '714c2b6e-787b-4e7d-9d15-e12374e9df11', 'meta': {'name': 'explore_course_info_40_5_online.txt'}}]}]}\n"
     ]
    }
   ],
   "source": [
    "print(response)"
   ]
  },
  {
   "cell_type": "code",
   "execution_count": 3,
   "metadata": {},
   "outputs": [
    {
     "output_type": "stream",
     "name": "stdout",
     "text": [
      "Answer: all organisations can benefit from an injection of digital skills to boost performance, productivity and profit\n\nProbability: 0.87763763138239\n\nContext:  talent, hiring raw talent and upskilling current talent is the only certain way to stay ahead of the pack.  contact us Find Out More our courses What we can offer you At EXPLORE we believe that all organisations can benefit from an injection of digital skills to boost performance, productivity and profit. Maximise return on your BBBEE spend EXPLORE is a SETA accredited institution so your spend on training scores you your BBBEE points whilst preparing your organisation for the future of work. H\n"
     ]
    }
   ],
   "source": [
    "answer = response['results'][0]['answers'][0]['answer']\n",
    "prob = response['results'][0]['answers'][0]['probability']\n",
    "context = response['results'][0]['answers'][0]['context']\n",
    "\n",
    "print(f\"Answer: {answer}\\n\\nProbability: {prob}\\n\\nContext: {context}\")"
   ]
  },
  {
   "cell_type": "markdown",
   "metadata": {},
   "source": [
    "Q2: What are the payments plans?"
   ]
  },
  {
   "cell_type": "code",
   "execution_count": 21,
   "metadata": {},
   "outputs": [
    {
     "name": "stdout",
     "output_type": "stream",
     "text": [
      "Answer: fully-paid bursaries to zero upfront payment plans\n",
      "\n",
      "Probability: 0.7846627124847613\n",
      "\n",
      "Context: . EXPLORE has a Programme that fits your needs. World Class Instructors Our programmes are built by top academics and practioners who have experience solving crazy difficult real-world problems. Innovative Payment Plans From fully-paid bursaries to zero upfront payment plans we have flexible payment plans tailor made for you. Our Courses Data Science Learn how to gather and analyse data to deliver business insights to executives. Software Engineering Learn how to build exciting web and mobile ap\n"
     ]
    }
   ],
   "source": [
    "answer = response['results'][1]['answers'][0]['answer']\n",
    "prob = response['results'][1]['answers'][0]['probability']\n",
    "context = response['results'][1]['answers'][0]['context']\n",
    "\n",
    "print(f\"Answer: {answer}\\n\\nProbability: {prob}\\n\\nContext: {context}\")"
   ]
  },
  {
   "cell_type": "markdown",
   "metadata": {},
   "source": [
    "## Administration"
   ]
  },
  {
   "cell_type": "code",
   "execution_count": 25,
   "metadata": {},
   "outputs": [],
   "source": [
    "url = 'http://127.0.0.1:8000/models/1/doc-qa'\n",
    "data = '{\"questions\": [\"When does is the next Advanced Python course?\", \"When is the next coding challenge?\"]}'\n",
    "\n",
    "response = requests.post(url, data).json()"
   ]
  },
  {
   "cell_type": "markdown",
   "metadata": {},
   "source": [
    "Q1: When does is the next Advanced Python course?"
   ]
  },
  {
   "cell_type": "code",
   "execution_count": 26,
   "metadata": {},
   "outputs": [
    {
     "name": "stdout",
     "output_type": "stream",
     "text": [
      "Answer: January 13, 2021\n",
      "\n",
      "Probability: 0.834970984250072\n",
      "\n",
      "Context: Advanced Python Self-funded Sponsored Online: Part-time Self-funded Sponsored Online: Part-time Become a coding ninja by learning the most used language in the world. Next Course January 13, 2021 - April 14, 2021 Applications will open again in the future Overview Learn to automate processes and analysis. Programming is one of the most important job skills for the future. Guided by some of the Best Our support team have been there and done that - they are experienced practitioners of data scienc\n"
     ]
    }
   ],
   "source": [
    "answer = response['results'][0]['answers'][0]['answer']\n",
    "prob = response['results'][0]['answers'][0]['probability']\n",
    "context = response['results'][0]['answers'][0]['context']\n",
    "\n",
    "print(f\"Answer: {answer}\\n\\nProbability: {prob}\\n\\nContext: {context}\")"
   ]
  },
  {
   "cell_type": "markdown",
   "metadata": {},
   "source": [
    "Q2: When is the next coding challenge due?"
   ]
  },
  {
   "cell_type": "code",
   "execution_count": 27,
   "metadata": {},
   "outputs": [
    {
     "name": "stdout",
     "output_type": "stream",
     "text": [
      "Answer: January 13, 2021\n",
      "\n",
      "Probability: 0.834970984250072\n",
      "\n",
      "Context: Advanced Python Self-funded Sponsored Online: Part-time Self-funded Sponsored Online: Part-time Become a coding ninja by learning the most used language in the world. Next Course January 13, 2021 - April 14, 2021 Applications will open again in the future Overview Learn to automate processes and analysis. Programming is one of the most important job skills for the future. Guided by some of the Best Our support team have been there and done that - they are experienced practitioners of data scienc\n"
     ]
    }
   ],
   "source": [
    "answer = response['results'][0]['answers'][0]['answer']\n",
    "prob = response['results'][0]['answers'][0]['probability']\n",
    "context = response['results'][0]['answers'][0]['context']\n",
    "\n",
    "print(f\"Answer: {answer}\\n\\nProbability: {prob}\\n\\nContext: {context}\")"
   ]
  },
  {
   "cell_type": "markdown",
   "metadata": {},
   "source": [
    "## Information Retrieval\n",
    "In this case, only the context is wanted together with a link to the document"
   ]
  },
  {
   "cell_type": "code",
   "execution_count": 49,
   "metadata": {},
   "outputs": [],
   "source": [
    "url = 'http://127.0.0.1:8000/models/1/doc-qa'\n",
    "data = '{\"questions\": [\"What are the course costs?\"]}'\n",
    "\n",
    "response = requests.post(url, data).json()"
   ]
  },
  {
   "cell_type": "code",
   "execution_count": 50,
   "metadata": {},
   "outputs": [],
   "source": [
    "title = response['results'][0]['answers'][0]['meta']['name']\n",
    "prob = response['results'][0]['answers'][0]['probability']\n",
    "context = response['results'][0]['answers'][0]['context']"
   ]
  },
  {
   "cell_type": "code",
   "execution_count": 52,
   "metadata": {
    "scrolled": true
   },
   "outputs": [
    {
     "name": "stdout",
     "output_type": "stream",
     "text": [
      "Answer: cleaned_machine-learning.txt\n",
      "\n",
      "Probability: 0.8033796185597996\n",
      "\n",
      "Context: ression, logistic regression, decision trees, random forests, SVM’s, k-nearest neighbours. Unsupervised learning - variance thresholds, PCA, k-means clustering, hierarchical clustering, Gaussian mixture models. We offer tours and info sessions on a regular basis, and you can register on our community page. If our event times do not work for you, please email [emailprotected] to schedule an appointment at an alternative time. Prices: R60,000 Prices: R3,000 Prices: R10,000 per month Prices: R3,000\n"
     ]
    }
   ],
   "source": [
    "print(f\"Answer: {title}\\n\\nProbability: {prob}\\n\\nContext: {context}\")"
   ]
  },
  {
   "cell_type": "markdown",
   "metadata": {},
   "source": [
    "## Disambiguation"
   ]
  },
  {
   "cell_type": "code",
   "execution_count": 1,
   "metadata": {},
   "outputs": [],
   "source": [
    "from sklearn.metrics.pairwise import cosine_similarity\n",
    "from sklearn.feature_extraction.text import TfidfVectorizer\n",
    "from nltk import ngrams\n",
    "import pandas as pd\n",
    "import re\n",
    "from sklearn.neighbors import NearestNeighbors\n",
    "from time import time"
   ]
  },
  {
   "cell_type": "code",
   "execution_count": 15,
   "metadata": {},
   "outputs": [],
   "source": [
    "questions = set([\"What are the fundamental values at explore?\",\n",
    "             \"What are the payment plans\",\n",
    "             \"Which course is best for me?\",\n",
    "             \"Which course should I take?\",\n",
    "             \"When is the next Advanced Python course?\", \n",
    "             \"When is the next coding challenge?\",\n",
    "             \"How much does the Data Science course cost?\",\n",
    "             \"How much is the Advanced Python course?\",\n",
    "             \"How much is the Data Analysis course?\"\n",
    "            ])\n",
    "questions = pd.Series(list(questions))\n"
   ]
  },
  {
   "cell_type": "code",
   "execution_count": 16,
   "metadata": {},
   "outputs": [
    {
     "name": "stdout",
     "output_type": "stream",
     "text": [
      "Vecorizing the data - this could take a few minutes for large datasets...\n",
      "Vecorizing completed...\n"
     ]
    }
   ],
   "source": [
    "print('Vecorizing the data - this could take a few minutes for large datasets...')\n",
    "vectorizer = TfidfVectorizer(min_df=1, analyzer='char', ngram_range=(1,5), lowercase=True)\n",
    "tfidf = vectorizer.fit_transform(questions)\n",
    "nbrs = NearestNeighbors(n_neighbors=1, n_jobs=-1).fit(tfidf)\n",
    "print('Vecorizing completed...')"
   ]
  },
  {
   "cell_type": "code",
   "execution_count": 17,
   "metadata": {},
   "outputs": [],
   "source": [
    "\n",
    "##matching query:\n",
    "def getNearestN(query, n):\n",
    "    queryTFIDF_ = vectorizer.transform(query)\n",
    "    distances, indices = nbrs.kneighbors(queryTFIDF_, n_neighbors=n)\n",
    "    return distances, indices\n",
    "\n",
    "def getSimQuestions(question, faqs, n):\n",
    "    distances, indices = getNearestN([question], n)\n",
    "    return faqs[indices[0]].tolist()"
   ]
  },
  {
   "cell_type": "code",
   "execution_count": 18,
   "metadata": {},
   "outputs": [
    {
     "data": {
      "text/plain": [
       "['Which course should I take?',\n",
       " 'Which course is best for me?',\n",
       " 'How much does the Data Science course cost?']"
      ]
     },
     "execution_count": 18,
     "metadata": {},
     "output_type": "execute_result"
    }
   ],
   "source": [
    "question = \"I don't know which course to do\"\n",
    "getSimQuestions(question, questions, 3)"
   ]
  },
  {
   "cell_type": "code",
   "execution_count": null,
   "metadata": {},
   "outputs": [],
   "source": [
    "from .."
   ]
  },
  {
   "cell_type": "code",
   "execution_count": 2,
   "metadata": {},
   "outputs": [],
   "source": [
    "from transformers import AutoModelWithLMHead, AutoTokenizer\n",
    "\n",
    "tokenizer = AutoTokenizer.from_pretrained(\"mrm8488/t5-base-finetuned-question-generation-ap\")\n",
    "model = AutoModelWithLMHead.from_pretrained(\"mrm8488/t5-base-finetuned-question-generation-ap\")\n",
    "\n",
    "def get_question(answer, context, max_length=64):\n",
    "    input_text = \"answer: %s  context: %s </s>\" % (answer, context)\n",
    "    features = tokenizer([input_text], return_tensors='pt')\n",
    "\n",
    "    output = model.generate(\n",
    "        input_ids=features['input_ids'],\n",
    "        attention_mask=features['attention_mask'],\n",
    "        max_length=max_length\n",
    "    )\n",
    "\n",
    "    return tokenizer.decode(output[0])\n",
    "\n",
    "context = \"EXPLORE is reinventing education by teaching digital skills which are relevant, practical and highly sought after in all industries.\"\n",
    "answer = \"EXPLORE\"\n",
    "\n",
    "get_question(answer, context)\n",
    "\n",
    "# output: question: Who created the RuPERTa-base?"
   ]
  },
  {
   "cell_type": "code",
   "execution_count": 1,
   "metadata": {},
   "outputs": [
    {
     "ename": "ModuleNotFoundError",
     "evalue": "No module named 'generator'",
     "output_type": "error",
     "traceback": [
      "\u001b[0;31m---------------------------------------------------------------------------\u001b[0m",
      "\u001b[0;31mModuleNotFoundError\u001b[0m                       Traceback (most recent call last)",
      "\u001b[0;32m<ipython-input-1-220d26e1e5ff>\u001b[0m in \u001b[0;36m<module>\u001b[0;34m\u001b[0m\n\u001b[0;32m----> 1\u001b[0;31m \u001b[0;32mfrom\u001b[0m \u001b[0mgenerator\u001b[0m \u001b[0;32mimport\u001b[0m \u001b[0mQuestionGenerator\u001b[0m\u001b[0;34m\u001b[0m\u001b[0;34m\u001b[0m\u001b[0m\n\u001b[0m",
      "\u001b[0;31mModuleNotFoundError\u001b[0m: No module named 'generator'"
     ]
    }
   ],
   "source": [
    "from generator import QuestionGenerator"
   ]
  },
  {
   "cell_type": "code",
   "execution_count": 2,
   "metadata": {},
   "outputs": [
    {
     "ename": "ModuleNotFoundError",
     "evalue": "No module named 'utils'",
     "output_type": "error",
     "traceback": [
      "\u001b[0;31m---------------------------------------------------------------------------\u001b[0m",
      "\u001b[0;31mModuleNotFoundError\u001b[0m                       Traceback (most recent call last)",
      "\u001b[0;32m<ipython-input-2-e72375f776d5>\u001b[0m in \u001b[0;36m<module>\u001b[0;34m\u001b[0m\n\u001b[0;32m----> 1\u001b[0;31m \u001b[0;32mfrom\u001b[0m \u001b[0mutils\u001b[0m\u001b[0;34m.\u001b[0m\u001b[0mutils\u001b[0m \u001b[0;32mimport\u001b[0m \u001b[0mclean_website_text\u001b[0m\u001b[0;34m\u001b[0m\u001b[0;34m\u001b[0m\u001b[0m\n\u001b[0m",
      "\u001b[0;31mModuleNotFoundError\u001b[0m: No module named 'utils'"
     ]
    }
   ],
   "source": [
    "from utils.utils import clean_website_text"
   ]
  },
  {
   "cell_type": "code",
   "execution_count": null,
   "metadata": {},
   "outputs": [],
   "source": []
  }
 ],
 "metadata": {
  "kernelspec": {
   "display_name": "Python 3",
   "language": "python",
   "name": "python3"
  },
  "language_info": {
   "codemirror_mode": {
    "name": "ipython",
    "version": 3
   },
   "file_extension": ".py",
   "mimetype": "text/x-python",
   "name": "python",
   "nbconvert_exporter": "python",
   "pygments_lexer": "ipython3",
   "version": "3.8.5-final"
  }
 },
 "nbformat": 4,
 "nbformat_minor": 4
}