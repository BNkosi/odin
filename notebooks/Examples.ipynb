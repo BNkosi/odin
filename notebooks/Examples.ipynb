{
 "cells": [
  {
   "cell_type": "markdown",
   "metadata": {},
   "source": [
    "# Zeus Examples\n",
    "The following questions are intended to prove various use cases and should not be confused with the final product.\n",
    "\n",
    "The questions to be answered are:\n",
    "* Onboarding:\n",
    "    - What are Explore’s fundamental values?\n",
    "    - What are the payments plans?\n",
    "* Administration:\n",
    "    - When does is the next Advanced Python course?\n",
    "    - When is the next coding challenge due?*\n",
    "* Information retrieval:\n",
    "    - Who are the people at Explore?\n",
    "    - What are the dimensionality reduction techniques?*\n",
    "* Human hand-over:\n",
    "    - The auto-grader isn’t working\n"
   ]
  },
  {
   "cell_type": "code",
   "execution_count": 1,
   "metadata": {},
   "outputs": [],
   "source": [
    "## Libraries\n",
    "import requests"
   ]
  },
  {
   "cell_type": "markdown",
   "metadata": {},
   "source": [
    "## Onboarding\n",
    "Onboarding requires a direct answer"
   ]
  },
  {
   "cell_type": "code",
   "execution_count": 9,
   "metadata": {},
   "outputs": [],
   "source": [
    "url = 'http://127.0.0.1:8000/models/1/doc-qa'\n",
    "data = '{\"questions\": [\"What are the fundamental values at explore?\", \"What are the payment plans\"]}'\n",
    "\n",
    "response = requests.post(url, data).json()"
   ]
  },
  {
   "cell_type": "markdown",
   "metadata": {},
   "source": [
    "Q1: What are Explore’s fundamental values?"
   ]
  },
  {
   "cell_type": "code",
   "execution_count": 20,
   "metadata": {},
   "outputs": [
    {
     "name": "stdout",
     "output_type": "stream",
     "text": [
      "Answer: how we behave when no-one is watching\n",
      "\n",
      "Probability: 0.8028769086014168\n",
      "\n",
      "Context: Our Values Values are fundamental at EXPLORE. Our Values are how we behave when no-one is watching. We take this very seriously. We not only value what we do but how we do it. We invest a lot of time building character at EXPLORE so our EXPLORERs show up powerfully in the world. Invest your Soul in the Game Throw your Body on the Line. Demand Black-Belt Excellence. Choose Growth. Solve the Problem. Plant Trees you will Never See. Be Ridiculously Optimistic. Walk Barefoot. EXPLORE with Gumption.\n"
     ]
    }
   ],
   "source": [
    "answer = response['results'][0]['answers'][0]['answer']\n",
    "prob = response['results'][0]['answers'][0]['probability']\n",
    "context = response['results'][0]['answers'][0]['context']\n",
    "\n",
    "print(f\"Answer: {answer}\\n\\nProbability: {prob}\\n\\nContext: {context}\")"
   ]
  },
  {
   "cell_type": "markdown",
   "metadata": {},
   "source": [
    "Q2: What are the payments plans?"
   ]
  },
  {
   "cell_type": "code",
   "execution_count": 21,
   "metadata": {},
   "outputs": [
    {
     "name": "stdout",
     "output_type": "stream",
     "text": [
      "Answer: fully-paid bursaries to zero upfront payment plans\n",
      "\n",
      "Probability: 0.7846627124847613\n",
      "\n",
      "Context: . EXPLORE has a Programme that fits your needs. World Class Instructors Our programmes are built by top academics and practioners who have experience solving crazy difficult real-world problems. Innovative Payment Plans From fully-paid bursaries to zero upfront payment plans we have flexible payment plans tailor made for you. Our Courses Data Science Learn how to gather and analyse data to deliver business insights to executives. Software Engineering Learn how to build exciting web and mobile ap\n"
     ]
    }
   ],
   "source": [
    "answer = response['results'][1]['answers'][0]['answer']\n",
    "prob = response['results'][1]['answers'][0]['probability']\n",
    "context = response['results'][1]['answers'][0]['context']\n",
    "\n",
    "print(f\"Answer: {answer}\\n\\nProbability: {prob}\\n\\nContext: {context}\")"
   ]
  },
  {
   "cell_type": "markdown",
   "metadata": {},
   "source": [
    "## Administration"
   ]
  },
  {
   "cell_type": "code",
   "execution_count": 25,
   "metadata": {},
   "outputs": [],
   "source": [
    "url = 'http://127.0.0.1:8000/models/1/doc-qa'\n",
    "data = '{\"questions\": [\"When does is the next Advanced Python course?\", \"When is the next coding challenge?\"]}'\n",
    "\n",
    "response = requests.post(url, data).json()"
   ]
  },
  {
   "cell_type": "markdown",
   "metadata": {},
   "source": [
    "Q1: When does is the next Advanced Python course?"
   ]
  },
  {
   "cell_type": "code",
   "execution_count": 26,
   "metadata": {},
   "outputs": [
    {
     "name": "stdout",
     "output_type": "stream",
     "text": [
      "Answer: January 13, 2021\n",
      "\n",
      "Probability: 0.834970984250072\n",
      "\n",
      "Context: Advanced Python Self-funded Sponsored Online: Part-time Self-funded Sponsored Online: Part-time Become a coding ninja by learning the most used language in the world. Next Course January 13, 2021 - April 14, 2021 Applications will open again in the future Overview Learn to automate processes and analysis. Programming is one of the most important job skills for the future. Guided by some of the Best Our support team have been there and done that - they are experienced practitioners of data scienc\n"
     ]
    }
   ],
   "source": [
    "answer = response['results'][0]['answers'][0]['answer']\n",
    "prob = response['results'][0]['answers'][0]['probability']\n",
    "context = response['results'][0]['answers'][0]['context']\n",
    "\n",
    "print(f\"Answer: {answer}\\n\\nProbability: {prob}\\n\\nContext: {context}\")"
   ]
  },
  {
   "cell_type": "markdown",
   "metadata": {},
   "source": [
    "Q2: When is the next coding challenge due?"
   ]
  },
  {
   "cell_type": "code",
   "execution_count": 27,
   "metadata": {},
   "outputs": [
    {
     "name": "stdout",
     "output_type": "stream",
     "text": [
      "Answer: January 13, 2021\n",
      "\n",
      "Probability: 0.834970984250072\n",
      "\n",
      "Context: Advanced Python Self-funded Sponsored Online: Part-time Self-funded Sponsored Online: Part-time Become a coding ninja by learning the most used language in the world. Next Course January 13, 2021 - April 14, 2021 Applications will open again in the future Overview Learn to automate processes and analysis. Programming is one of the most important job skills for the future. Guided by some of the Best Our support team have been there and done that - they are experienced practitioners of data scienc\n"
     ]
    }
   ],
   "source": [
    "answer = response['results'][0]['answers'][0]['answer']\n",
    "prob = response['results'][0]['answers'][0]['probability']\n",
    "context = response['results'][0]['answers'][0]['context']\n",
    "\n",
    "print(f\"Answer: {answer}\\n\\nProbability: {prob}\\n\\nContext: {context}\")"
   ]
  },
  {
   "cell_type": "markdown",
   "metadata": {},
   "source": [
    "## Information Retrieval\n",
    "In this case, only the context is wanted together with a link to the document"
   ]
  },
  {
   "cell_type": "code",
   "execution_count": 49,
   "metadata": {},
   "outputs": [],
   "source": [
    "url = 'http://127.0.0.1:8000/models/1/doc-qa'\n",
    "data = '{\"questions\": [\"What are the course costs?\"]}'\n",
    "\n",
    "response = requests.post(url, data).json()"
   ]
  },
  {
   "cell_type": "code",
   "execution_count": 50,
   "metadata": {},
   "outputs": [],
   "source": [
    "title = response['results'][0]['answers'][0]['meta']['name']\n",
    "prob = response['results'][0]['answers'][0]['probability']\n",
    "context = response['results'][0]['answers'][0]['context']"
   ]
  },
  {
   "cell_type": "code",
   "execution_count": 52,
   "metadata": {
    "scrolled": true
   },
   "outputs": [
    {
     "name": "stdout",
     "output_type": "stream",
     "text": [
      "Answer: cleaned_machine-learning.txt\n",
      "\n",
      "Probability: 0.8033796185597996\n",
      "\n",
      "Context: ression, logistic regression, decision trees, random forests, SVM’s, k-nearest neighbours. Unsupervised learning - variance thresholds, PCA, k-means clustering, hierarchical clustering, Gaussian mixture models. We offer tours and info sessions on a regular basis, and you can register on our community page. If our event times do not work for you, please email [emailprotected] to schedule an appointment at an alternative time. Prices: R60,000 Prices: R3,000 Prices: R10,000 per month Prices: R3,000\n"
     ]
    }
   ],
   "source": [
    "print(f\"Answer: {title}\\n\\nProbability: {prob}\\n\\nContext: {context}\")"
   ]
  },
  {
   "cell_type": "markdown",
   "metadata": {},
   "source": [
    "## Disambiguation"
   ]
  },
  {
   "cell_type": "code",
   "execution_count": 1,
   "metadata": {},
   "outputs": [],
   "source": [
    "from sklearn.metrics.pairwise import cosine_similarity\n",
    "from sklearn.feature_extraction.text import TfidfVectorizer\n",
    "from nltk import ngrams\n",
    "import pandas as pd\n",
    "import re\n",
    "from sklearn.neighbors import NearestNeighbors\n",
    "from time import time"
   ]
  },
  {
   "cell_type": "code",
   "execution_count": 15,
   "metadata": {},
   "outputs": [],
   "source": [
    "questions = set([\"What are the fundamental values at explore?\",\n",
    "             \"What are the payment plans\",\n",
    "             \"Which course is best for me?\",\n",
    "             \"Which course should I take?\",\n",
    "             \"When is the next Advanced Python course?\", \n",
    "             \"When is the next coding challenge?\",\n",
    "             \"How much does the Data Science course cost?\",\n",
    "             \"How much is the Advanced Python course?\",\n",
    "             \"How much is the Data Analysis course?\"\n",
    "            ])\n",
    "questions = pd.Series(list(questions))\n"
   ]
  },
  {
   "cell_type": "code",
   "execution_count": 16,
   "metadata": {},
   "outputs": [
    {
     "name": "stdout",
     "output_type": "stream",
     "text": [
      "Vecorizing the data - this could take a few minutes for large datasets...\n",
      "Vecorizing completed...\n"
     ]
    }
   ],
   "source": [
    "print('Vecorizing the data - this could take a few minutes for large datasets...')\n",
    "vectorizer = TfidfVectorizer(min_df=1, analyzer='char', ngram_range=(1,5), lowercase=True)\n",
    "tfidf = vectorizer.fit_transform(questions)\n",
    "nbrs = NearestNeighbors(n_neighbors=1, n_jobs=-1).fit(tfidf)\n",
    "print('Vecorizing completed...')"
   ]
  },
  {
   "cell_type": "code",
   "execution_count": 17,
   "metadata": {},
   "outputs": [],
   "source": [
    "\n",
    "##matching query:\n",
    "def getNearestN(query, n):\n",
    "    queryTFIDF_ = vectorizer.transform(query)\n",
    "    distances, indices = nbrs.kneighbors(queryTFIDF_, n_neighbors=n)\n",
    "    return distances, indices\n",
    "\n",
    "def getSimQuestions(question, faqs, n):\n",
    "    distances, indices = getNearestN([question], n)\n",
    "    return faqs[indices[0]].tolist()"
   ]
  },
  {
   "cell_type": "code",
   "execution_count": 18,
   "metadata": {},
   "outputs": [
    {
     "data": {
      "text/plain": [
       "['Which course should I take?',\n",
       " 'Which course is best for me?',\n",
       " 'How much does the Data Science course cost?']"
      ]
     },
     "execution_count": 18,
     "metadata": {},
     "output_type": "execute_result"
    }
   ],
   "source": [
    "question = \"I don't know which course to do\"\n",
    "getSimQuestions(question, questions, 3)"
   ]
  },
  {
   "cell_type": "code",
   "execution_count": null,
   "metadata": {},
   "outputs": [],
   "source": [
    "from .."
   ]
  },
  {
   "cell_type": "code",
   "execution_count": 2,
   "metadata": {},
   "outputs": [],
   "source": [
    "from transformers import AutoModelWithLMHead, AutoTokenizer\n",
    "\n",
    "tokenizer = AutoTokenizer.from_pretrained(\"mrm8488/t5-base-finetuned-question-generation-ap\")\n",
    "model = AutoModelWithLMHead.from_pretrained(\"mrm8488/t5-base-finetuned-question-generation-ap\")\n",
    "\n",
    "def get_question(answer, context, max_length=64):\n",
    "    input_text = \"answer: %s  context: %s </s>\" % (answer, context)\n",
    "    features = tokenizer([input_text], return_tensors='pt')\n",
    "\n",
    "    output = model.generate(\n",
    "        input_ids=features['input_ids'],\n",
    "        attention_mask=features['attention_mask'],\n",
    "        max_length=max_length\n",
    "    )\n",
    "\n",
    "    return tokenizer.decode(output[0])\n",
    "\n",
    "context = \"EXPLORE is reinventing education by teaching digital skills which are relevant, practical and highly sought after in all industries.\"\n",
    "answer = \"EXPLORE\"\n",
    "\n",
    "get_question(answer, context)\n",
    "\n",
    "# output: question: Who created the RuPERTa-base?"
   ]
  },
  {
   "cell_type": "code",
   "execution_count": null,
   "metadata": {},
   "outputs": [],
   "source": []
  }
 ],
 "metadata": {
  "kernelspec": {
   "display_name": "Python 3",
   "language": "python",
   "name": "python3"
  },
  "language_info": {
   "codemirror_mode": {
    "name": "ipython",
    "version": 3
   },
   "file_extension": ".py",
   "mimetype": "text/x-python",
   "name": "python",
   "nbconvert_exporter": "python",
   "pygments_lexer": "ipython3",
   "version": "3.8.5"
  }
 },
 "nbformat": 4,
 "nbformat_minor": 4
}
