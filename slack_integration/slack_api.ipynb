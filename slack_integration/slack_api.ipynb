{
 "cells": [
  {
   "cell_type": "code",
   "execution_count": null,
   "metadata": {},
   "outputs": [],
   "source": [
    "import logging\n",
    "logging.basicConfig(level=logging.DEBUG)\n",
    "\n",
    "import os\n",
    "from slack import WebClient\n",
    "from slack.errors import SlackApiError\n",
    "\n",
    "from config import SLACK_BOT_TOKEN\n",
    "# os.environ['SLACK_BOT_TOKEN'] = SLACK_BOT_TOKEN\n",
    "\n",
    "# slack_token = os.environ['SLACK_BOT_TOKEN']\n",
    "client = WebClient(token=SLACK_BOT_TOKEN)"
   ]
  },
  {
   "cell_type": "code",
   "execution_count": 4,
   "metadata": {},
   "outputs": [
    {
     "name": "stderr",
     "output_type": "stream",
     "text": [
      "DEBUG:slack.web.base_client:Sending a request - url: https://www.slack.com/api/chat.postMessage, query_params: {}, body_params: {}, files: {}, json_body: {'text': 'Hello from your app! :tada:', 'channel': '#odin'}, headers: {'Content-Type': 'application/json;charset=utf-8', 'Authorization': '(redacted)', 'User-Agent': 'Python/3.8.2 slackclient/2.9.0 Linux/5.4.0-47-generic'}\n",
      "DEBUG:slack.web.slack_response:Received the following response - status: 200, headers: {'Content-Type': 'application/json; charset=utf-8', 'Transfer-Encoding': 'chunked', 'Connection': 'close', 'Date': 'Tue, 22 Sep 2020 21:15:21 GMT', 'Server': 'Apache', 'X-Slack-Req-Id': '07698fab675c87347d17af4390a40b22', 'X-OAuth-Scopes': 'chat:write,im:write,chat:write.public', 'Access-Control-Expose-Headers': 'x-slack-req-id, retry-after', 'Access-Control-Allow-Origin': '*', 'X-Slack-Backend': 'r', 'X-Content-Type-Options': 'nosniff', 'Expires': 'Mon, 26 Jul 1997 05:00:00 GMT', 'Cache-Control': 'private, no-cache, no-store, must-revalidate', 'X-XSS-Protection': '0', 'X-Accepted-OAuth-Scopes': 'chat:write', 'Access-Control-Allow-Headers': 'slack-route, x-slack-version-ts, x-b3-traceid, x-b3-spanid, x-b3-parentspanid, x-b3-sampled, x-b3-flags', 'Vary': 'Accept-Encoding', 'Pragma': 'no-cache', 'Strict-Transport-Security': 'max-age=31536000; includeSubDomains; preload', 'Referrer-Policy': 'no-referrer', 'X-Via': 'haproxy-www-grrn', 'X-Cache': 'Miss from cloudfront', 'Via': '1.1 2a21959f5112a3ae93711a635ed94a90.cloudfront.net (CloudFront)', 'X-Amz-Cf-Pop': 'JNB50', 'X-Amz-Cf-Id': 'r3mYtzGotiRQi7Vo1cTer_NA14CSbH4OYnxYeea5KdT8ANU0ykgj5w=='}, body: {'ok': True, 'channel': 'C01ARR6QR5M', 'ts': '1600809321.000700', 'message': {'bot_id': 'B01B6HVKL82', 'type': 'message', 'text': 'Hello from your app! :tada:', 'user': 'U01AZRT0S30', 'ts': '1600809321.000700', 'team': 'T0113UYK858', 'bot_profile': {'id': 'B01B6HVKL82', 'deleted': False, 'name': 'Odin', 'updated': 1600806594, 'app_id': 'A01B6PRGX5H', 'icons': {'image_36': 'https://a.slack-edge.com/80588/img/plugins/app/bot_36.png', 'image_48': 'https://a.slack-edge.com/80588/img/plugins/app/bot_48.png', 'image_72': 'https://a.slack-edge.com/80588/img/plugins/app/service_72.png'}, 'team_id': 'T0113UYK858'}}}\n"
     ]
    }
   ],
   "source": [
    "%%capture\n",
    "try:\n",
    "    response = client.chat_postMessage(\n",
    "        channel=\"#odin\",\n",
    "        text=\"Hello from your app! :tada:\"\n",
    "        )\n",
    "except SlackApiError as e:\n",
    "    # You will get a SlackApiError if \"ok\" is False\n",
    "    assert e.response[\"error\"]  # str like 'invalid_auth', 'channel_not_found'"
   ]
  },
  {
   "cell_type": "code",
   "execution_count": null,
   "metadata": {},
   "outputs": [],
   "source": []
  }
 ],
 "metadata": {
  "kernelspec": {
   "display_name": "Python 3",
   "language": "python",
   "name": "python3"
  },
  "language_info": {
   "codemirror_mode": {
    "name": "ipython",
    "version": 3
   },
   "file_extension": ".py",
   "mimetype": "text/x-python",
   "name": "python",
   "nbconvert_exporter": "python",
   "pygments_lexer": "ipython3",
   "version": "3.8.2"
  }
 },
 "nbformat": 4,
 "nbformat_minor": 4
}
